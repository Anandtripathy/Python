{
  "nbformat": 4,
  "nbformat_minor": 0,
  "metadata": {
    "colab": {
      "name": "compare.py",
      "provenance": [],
      "collapsed_sections": [],
      "authorship_tag": "ABX9TyOZO+z/uG/FBr5FSvtNCldG",
      "include_colab_link": true
    },
    "kernelspec": {
      "name": "python3",
      "display_name": "Python 3"
    }
  },
  "cells": [
    {
      "cell_type": "markdown",
      "metadata": {
        "id": "view-in-github",
        "colab_type": "text"
      },
      "source": [
        "<a href=\"https://colab.research.google.com/github/Anandtripathy/Python/blob/main/compare_py.ipynb\" target=\"_parent\"><img src=\"https://colab.research.google.com/assets/colab-badge.svg\" alt=\"Open In Colab\"/></a>"
      ]
    },
    {
      "cell_type": "code",
      "metadata": {
        "colab": {
          "base_uri": "https://localhost:8080/"
        },
        "id": "bVlXJyu9ocAD",
        "outputId": "d5545da6-5ed8-47e5-adb3-16873a6ff3cb"
      },
      "source": [
        "class computer():\r\n",
        "  def __init__(self):\r\n",
        "    self.Ram=500\r\n",
        "    self.CPU=\"Dell\"\r\n",
        "    self.Screen_size=12\r\n",
        "comp=computer()\r\n",
        "print(comp.Ram)\r\n"
      ],
      "execution_count": 9,
      "outputs": [
        {
          "output_type": "stream",
          "text": [
            "500\n"
          ],
          "name": "stdout"
        }
      ]
    },
    {
      "cell_type": "code",
      "metadata": {
        "colab": {
          "base_uri": "https://localhost:8080/",
          "height": 232
        },
        "id": "7mCCy_PSpETU",
        "outputId": "63f9cf7a-99c4-4914-eb44-5e43b8bd3a11"
      },
      "source": [
        "class computer():\r\n",
        "\r\n",
        "\r\n",
        "  def __init__(self):\r\n",
        "    self.name=\"Naveen\"\r\n",
        "    self.age=28\r\n",
        "\r\n",
        "  def __init__(self):\r\n",
        "    self.age=26\r\n",
        "\r\n",
        "  def compare(self,others):\r\n",
        "    if self.age==others.age:\r\n",
        "      return True\r\n",
        "    else:\r\n",
        "      return False\r\n",
        "c1=computer()\r\n",
        "c2=computer()\r\n",
        "\r\n",
        "if c1.compare(c2):\r\n",
        "  print(\"They are same\")\r\n",
        "\r\n",
        "\r\n",
        "print(c1.name)\r\n",
        "print(c2.name)"
      ],
      "execution_count": 10,
      "outputs": [
        {
          "output_type": "stream",
          "text": [
            "They are same\n"
          ],
          "name": "stdout"
        },
        {
          "output_type": "error",
          "ename": "AttributeError",
          "evalue": "ignored",
          "traceback": [
            "\u001b[0;31m---------------------------------------------------------------------------\u001b[0m",
            "\u001b[0;31mAttributeError\u001b[0m                            Traceback (most recent call last)",
            "\u001b[0;32m<ipython-input-10-55981d669bab>\u001b[0m in \u001b[0;36m<module>\u001b[0;34m()\u001b[0m\n\u001b[1;32m     21\u001b[0m \u001b[0;34m\u001b[0m\u001b[0m\n\u001b[1;32m     22\u001b[0m \u001b[0;34m\u001b[0m\u001b[0m\n\u001b[0;32m---> 23\u001b[0;31m \u001b[0mprint\u001b[0m\u001b[0;34m(\u001b[0m\u001b[0mc1\u001b[0m\u001b[0;34m.\u001b[0m\u001b[0mname\u001b[0m\u001b[0;34m)\u001b[0m\u001b[0;34m\u001b[0m\u001b[0;34m\u001b[0m\u001b[0m\n\u001b[0m\u001b[1;32m     24\u001b[0m \u001b[0mprint\u001b[0m\u001b[0;34m(\u001b[0m\u001b[0mc2\u001b[0m\u001b[0;34m.\u001b[0m\u001b[0mname\u001b[0m\u001b[0;34m)\u001b[0m\u001b[0;34m\u001b[0m\u001b[0;34m\u001b[0m\u001b[0m\n",
            "\u001b[0;31mAttributeError\u001b[0m: 'computer' object has no attribute 'name'"
          ]
        }
      ]
    },
    {
      "cell_type": "code",
      "metadata": {
        "id": "SiiWiRqQstv7"
      },
      "source": [
        ""
      ],
      "execution_count": null,
      "outputs": []
    }
  ]
}