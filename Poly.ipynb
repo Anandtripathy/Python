{
  "nbformat": 4,
  "nbformat_minor": 0,
  "metadata": {
    "colab": {
      "name": "Poly.ipynb",
      "provenance": [],
      "collapsed_sections": [],
      "authorship_tag": "ABX9TyOsZ8ZwI8OQwgYj34PIsEuK"
    },
    "kernelspec": {
      "name": "python3",
      "display_name": "Python 3"
    }
  },
  "cells": [
    {
      "cell_type": "code",
      "metadata": {
        "colab": {
          "base_uri": "https://localhost:8080/"
        },
        "id": "d89Hmbrc0iZS",
        "outputId": "dddbf5b9-d320-4787-a3f7-bfed30d2f77a"
      },
      "source": [
        "#polymorphism: \r\n",
        "class employee1():\r\n",
        "  def name(self):\r\n",
        "    print(\"Harshit is his name\")    \r\n",
        "  def salary(self):\r\n",
        "    print(\"3000 is his salary\")\r\n",
        " \r\n",
        "  def age(self):\r\n",
        "    print(\"22 is his age\")\r\n",
        " \r\n",
        "class employee2():\r\n",
        "  def name(self):\r\n",
        "    print(\"Rahul is his name\")\r\n",
        " \r\n",
        "  def salary(self):\r\n",
        "    print(\"4000 is his salary\")\r\n",
        " \r\n",
        "  def age(self):\r\n",
        "    print(\"23 is his age\")\r\n",
        " \r\n",
        "  def func(obj):\r\n",
        "    obj.name()\r\n",
        "    obj.salary()\r\n",
        "    obj.age()\r\n",
        "obj_emp1 = employee1()\r\n",
        "obj_emp2 = employee2()\r\n",
        "\r\n",
        "def func(obj):\r\n",
        "    obj.name()\r\n",
        "    obj.salary()\r\n",
        "    obj.age()\r\n",
        "func(obj_emp1)\r\n",
        "func(obj_emp2)\r\n"
      ],
      "execution_count": 17,
      "outputs": [
        {
          "output_type": "stream",
          "text": [
            "Harshit is his name\n",
            "3000 is his salary\n",
            "22 is his age\n",
            "Rahul is his name\n",
            "4000 is his salary\n",
            "23 is his age\n"
          ],
          "name": "stdout"
        }
      ]
    },
    {
      "cell_type": "code",
      "metadata": {
        "id": "eM79yKqM2SHf"
      },
      "source": [
        ""
      ],
      "execution_count": null,
      "outputs": []
    }
  ]
}