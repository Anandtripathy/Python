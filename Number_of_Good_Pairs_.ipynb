{
  "nbformat": 4,
  "nbformat_minor": 0,
  "metadata": {
    "colab": {
      "name": "Number of Good Pairs .ipynb",
      "provenance": [],
      "authorship_tag": "ABX9TyPBmB1iUKre2iQuQu6WsO29"
    },
    "kernelspec": {
      "name": "python3",
      "display_name": "Python 3"
    }
  },
  "cells": [
    {
      "cell_type": "markdown",
      "metadata": {
        "id": "jUgOBDWhhXDb"
      },
      "source": [
        "Given an array of integers nums.\r\n",
        "\r\n",
        "A pair (i,j) is called good if nums[i] == nums[j] and i < j.\r\n",
        "\r\n",
        "Return the number of good pairs.\r\n",
        "\r\n",
        "\r\n",
        "https://leetcode.com/problems/number-of-good-pairs/"
      ]
    },
    {
      "cell_type": "code",
      "metadata": {
        "id": "KYQNsZ9ng7U7"
      },
      "source": [
        "class Solution:\r\n",
        "    def numIdenticalPairs(self, nums: List[int]) -> int:\r\n",
        "        \r\n",
        "        good_pair=[]\r\n",
        "        for i in range(0,len(nums)):\r\n",
        "            for j in range(i+1,len(nums)):\r\n",
        "                if nums[i]==nums[j] and i<j:\r\n",
        "                    good_pair.append([i,j])\r\n",
        "        return len(good_pair)\r\n",
        "        "
      ],
      "execution_count": null,
      "outputs": []
    }
  ]
}