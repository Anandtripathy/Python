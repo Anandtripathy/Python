{
  "nbformat": 4,
  "nbformat_minor": 0,
  "metadata": {
    "colab": {
      "name": "Placeholders in Strings.ipynb",
      "provenance": [],
      "collapsed_sections": [],
      "authorship_tag": "ABX9TyMcKGdo6nRNHuvHmcuVSIYl"
    },
    "kernelspec": {
      "name": "python3",
      "display_name": "Python 3"
    },
    "language_info": {
      "name": "python"
    }
  },
  "cells": [
    {
      "cell_type": "code",
      "metadata": {
        "colab": {
          "base_uri": "https://localhost:8080/",
          "height": 35
        },
        "id": "lfGTzn5481IJ",
        "outputId": "c057021c-0b11-4c00-c327-0bf6760bfb9d"
      },
      "source": [
        "name=\"Jake\"\n",
        "name + \" \" +\"Is 16 years old\""
      ],
      "execution_count": null,
      "outputs": [
        {
          "output_type": "execute_result",
          "data": {
            "application/vnd.google.colaboratory.intrinsic+json": {
              "type": "string"
            },
            "text/plain": [
              "'Jake Is 16 years old'"
            ]
          },
          "metadata": {
            "tags": []
          },
          "execution_count": 1
        }
      ]
    },
    {
      "cell_type": "code",
      "metadata": {
        "colab": {
          "base_uri": "https://localhost:8080/",
          "height": 35
        },
        "id": "_8476T7y9AAd",
        "outputId": "4300154d-f32d-4fa5-b100-32b52789743f"
      },
      "source": [
        "sent = \"%s is 15 years of old\"\n",
        "sent"
      ],
      "execution_count": null,
      "outputs": [
        {
          "output_type": "execute_result",
          "data": {
            "application/vnd.google.colaboratory.intrinsic+json": {
              "type": "string"
            },
            "text/plain": [
              "'%s is 15 years of old'"
            ]
          },
          "metadata": {
            "tags": []
          },
          "execution_count": 2
        }
      ]
    },
    {
      "cell_type": "code",
      "metadata": {
        "colab": {
          "base_uri": "https://localhost:8080/",
          "height": 35
        },
        "id": "ZCObQhDt9qr8",
        "outputId": "5e630603-f144-4c57-d3e6-30fb609759d1"
      },
      "source": [
        "sent%name   # '%' sign is used for place holders "
      ],
      "execution_count": null,
      "outputs": [
        {
          "output_type": "execute_result",
          "data": {
            "application/vnd.google.colaboratory.intrinsic+json": {
              "type": "string"
            },
            "text/plain": [
              "'Jake is 15 years of old'"
            ]
          },
          "metadata": {
            "tags": []
          },
          "execution_count": 3
        }
      ]
    },
    {
      "cell_type": "code",
      "metadata": {
        "id": "FDxz5gBx9tRV"
      },
      "source": [
        "sent =\" %s %s is the president of United State of America\""
      ],
      "execution_count": null,
      "outputs": []
    },
    {
      "cell_type": "code",
      "metadata": {
        "colab": {
          "base_uri": "https://localhost:8080/",
          "height": 35
        },
        "id": "lK3iiJEJ9vg4",
        "outputId": "d8119181-6fa1-4468-ea3f-8072a0b6dd49"
      },
      "source": [
        "sent%(\"Barak\",\"Obama\")"
      ],
      "execution_count": null,
      "outputs": [
        {
          "output_type": "execute_result",
          "data": {
            "application/vnd.google.colaboratory.intrinsic+json": {
              "type": "string"
            },
            "text/plain": [
              "' Barak Obama is the president of United State of America'"
            ]
          },
          "metadata": {
            "tags": []
          },
          "execution_count": 5
        }
      ]
    },
    {
      "cell_type": "code",
      "metadata": {
        "id": "lgxTZ58P_lIP"
      },
      "source": [
        "sent2=sent"
      ],
      "execution_count": null,
      "outputs": []
    },
    {
      "cell_type": "code",
      "metadata": {
        "id": "rIZZ8iXw1Bmb"
      },
      "source": [
        "sent2 =\" %s age %d is the president of United State of America\""
      ],
      "execution_count": null,
      "outputs": []
    },
    {
      "cell_type": "code",
      "metadata": {
        "colab": {
          "base_uri": "https://localhost:8080/",
          "height": 35
        },
        "id": "ReLjvacg1Cmv",
        "outputId": "3425778e-f6b5-4534-dfbc-964bb5903eaf"
      },
      "source": [
        "sent2%('obama',50)"
      ],
      "execution_count": null,
      "outputs": [
        {
          "output_type": "execute_result",
          "data": {
            "application/vnd.google.colaboratory.intrinsic+json": {
              "type": "string"
            },
            "text/plain": [
              "' obama age 50 is the president of United State of America'"
            ]
          },
          "metadata": {
            "tags": []
          },
          "execution_count": 8
        }
      ]
    },
    {
      "cell_type": "code",
      "metadata": {
        "id": "WgrWhrpi1izg"
      },
      "source": [
        "List=[1,2,3,4,4,5,6,\"Anand\"]"
      ],
      "execution_count": null,
      "outputs": []
    },
    {
      "cell_type": "code",
      "metadata": {
        "id": "dX4aD9B22O6k"
      },
      "source": [
        "List.append(\"Blueberries\")"
      ],
      "execution_count": null,
      "outputs": []
    },
    {
      "cell_type": "code",
      "metadata": {
        "id": "hCOtiBXW2QyB"
      },
      "source": [
        "List[0]=\"cherries\""
      ],
      "execution_count": null,
      "outputs": []
    },
    {
      "cell_type": "code",
      "metadata": {
        "colab": {
          "base_uri": "https://localhost:8080/"
        },
        "id": "nHC6YPJ137jW",
        "outputId": "a196483a-e351-4eda-a6bd-2b970c0914e5"
      },
      "source": [
        "List"
      ],
      "execution_count": null,
      "outputs": [
        {
          "output_type": "execute_result",
          "data": {
            "text/plain": [
              "['cherries', 2, 3, 4, 4, 5, 6, 'Anand', 'Blueberries']"
            ]
          },
          "metadata": {
            "tags": []
          },
          "execution_count": 12
        }
      ]
    },
    {
      "cell_type": "code",
      "metadata": {
        "id": "eaicH8GE4eXI"
      },
      "source": [
        "List.reverse()"
      ],
      "execution_count": null,
      "outputs": []
    },
    {
      "cell_type": "code",
      "metadata": {
        "colab": {
          "base_uri": "https://localhost:8080/"
        },
        "id": "CVvAp_aZ4pcw",
        "outputId": "9f8a3310-ca6a-44d5-e509-15bb7751a919"
      },
      "source": [
        "List"
      ],
      "execution_count": null,
      "outputs": [
        {
          "output_type": "execute_result",
          "data": {
            "text/plain": [
              "['Blueberries', 'Anand', 6, 5, 4, 4, 3, 2, 'cherries']"
            ]
          },
          "metadata": {
            "tags": []
          },
          "execution_count": 14
        }
      ]
    },
    {
      "cell_type": "code",
      "metadata": {
        "id": "g_xOG5gI4qf5"
      },
      "source": [
        "List.remove(4)"
      ],
      "execution_count": null,
      "outputs": []
    },
    {
      "cell_type": "code",
      "metadata": {
        "colab": {
          "base_uri": "https://localhost:8080/"
        },
        "id": "00JjwTCC4yF9",
        "outputId": "760a0a6b-b550-4f59-8d9e-8bbdf5fc1f12"
      },
      "source": [
        "List"
      ],
      "execution_count": null,
      "outputs": [
        {
          "output_type": "execute_result",
          "data": {
            "text/plain": [
              "['Blueberries', 'Anand', 6, 5, 4, 3, 2, 'cherries']"
            ]
          },
          "metadata": {
            "tags": []
          },
          "execution_count": 16
        }
      ]
    },
    {
      "cell_type": "code",
      "metadata": {
        "id": "IDJYXo-c4z_N"
      },
      "source": [
        "List.remove(\"Anand\")"
      ],
      "execution_count": null,
      "outputs": []
    },
    {
      "cell_type": "code",
      "metadata": {
        "id": "yHsDvYXd5MJA"
      },
      "source": [
        "del List[4]"
      ],
      "execution_count": null,
      "outputs": []
    },
    {
      "cell_type": "code",
      "metadata": {
        "colab": {
          "base_uri": "https://localhost:8080/"
        },
        "id": "nxJZ-oNV5Nql",
        "outputId": "615e2277-1b6e-4a45-cd51-2ea6047bd46f"
      },
      "source": [
        "List"
      ],
      "execution_count": null,
      "outputs": [
        {
          "output_type": "execute_result",
          "data": {
            "text/plain": [
              "['Blueberries', 6, 5, 4, 2, 'cherries']"
            ]
          },
          "metadata": {
            "tags": []
          },
          "execution_count": 19
        }
      ]
    },
    {
      "cell_type": "code",
      "metadata": {
        "colab": {
          "base_uri": "https://localhost:8080/"
        },
        "id": "MZh0qZji8_G8",
        "outputId": "e2329219-6127-44f7-d3bf-e1ef56a6f341"
      },
      "source": [
        "len(List)"
      ],
      "execution_count": null,
      "outputs": [
        {
          "output_type": "execute_result",
          "data": {
            "text/plain": [
              "6"
            ]
          },
          "metadata": {
            "tags": []
          },
          "execution_count": 20
        }
      ]
    },
    {
      "cell_type": "code",
      "metadata": {
        "id": "V4rvUB9I9L9z"
      },
      "source": [
        "List1=[\"Bread\",'butter','Jam','PeanutButter']"
      ],
      "execution_count": null,
      "outputs": []
    },
    {
      "cell_type": "code",
      "metadata": {
        "colab": {
          "base_uri": "https://localhost:8080/"
        },
        "id": "vu11m6Gy_XmH",
        "outputId": "b31906f3-7ef8-41b9-b99d-72ec0d014c47"
      },
      "source": [
        "len(List + List1)"
      ],
      "execution_count": null,
      "outputs": [
        {
          "output_type": "execute_result",
          "data": {
            "text/plain": [
              "10"
            ]
          },
          "metadata": {
            "tags": []
          },
          "execution_count": 22
        }
      ]
    },
    {
      "cell_type": "code",
      "metadata": {
        "id": "iKK2PkZe_e3V"
      },
      "source": [
        ""
      ],
      "execution_count": null,
      "outputs": []
    },
    {
      "cell_type": "code",
      "metadata": {
        "id": "lsyLZZcd_ww0"
      },
      "source": [
        ""
      ],
      "execution_count": null,
      "outputs": []
    },
    {
      "cell_type": "markdown",
      "metadata": {
        "id": "abUYEAjAANT5"
      },
      "source": [
        "# Dictionaries"
      ]
    },
    {
      "cell_type": "code",
      "metadata": {
        "id": "3h6hF4BzB6WO"
      },
      "source": [
        "Students= {'Anand': 1 ,\"Ankit\":2,\"Karishma\":3,\"Tasneem\":4,\"Ujjwal\":5}"
      ],
      "execution_count": null,
      "outputs": []
    },
    {
      "cell_type": "code",
      "metadata": {
        "colab": {
          "base_uri": "https://localhost:8080/"
        },
        "id": "S_KSB3wyCKQs",
        "outputId": "cedf5577-538a-41a1-f7b8-5050579e7f0e"
      },
      "source": [
        "Students"
      ],
      "execution_count": null,
      "outputs": [
        {
          "output_type": "execute_result",
          "data": {
            "text/plain": [
              "{'Anand': 1, 'Ankit': 2, 'Karishma': 3, 'Tasneem': 4, 'Ujjwal': 5}"
            ]
          },
          "metadata": {
            "tags": []
          },
          "execution_count": 24
        }
      ]
    },
    {
      "cell_type": "code",
      "metadata": {
        "colab": {
          "base_uri": "https://localhost:8080/"
        },
        "id": "j0TYrqO8DHEA",
        "outputId": "f8c5fcda-c6f8-4e8b-ef6f-09a8b7eb950d"
      },
      "source": [
        "Students['Anand']"
      ],
      "execution_count": null,
      "outputs": [
        {
          "output_type": "execute_result",
          "data": {
            "text/plain": [
              "1"
            ]
          },
          "metadata": {
            "tags": []
          },
          "execution_count": 25
        }
      ]
    },
    {
      "cell_type": "code",
      "metadata": {
        "id": "5bt8hGrwDUKm"
      },
      "source": [
        "Students['Anand']=15"
      ],
      "execution_count": null,
      "outputs": []
    },
    {
      "cell_type": "code",
      "metadata": {
        "colab": {
          "base_uri": "https://localhost:8080/"
        },
        "id": "2lkXAttmDi68",
        "outputId": "37d8d46a-b9e5-462c-aa53-afbf6e1ee3f2"
      },
      "source": [
        "Students"
      ],
      "execution_count": null,
      "outputs": [
        {
          "output_type": "execute_result",
          "data": {
            "text/plain": [
              "{'Anand': 15, 'Ankit': 2, 'Karishma': 3, 'Tasneem': 4, 'Ujjwal': 5}"
            ]
          },
          "metadata": {
            "tags": []
          },
          "execution_count": 27
        }
      ]
    },
    {
      "cell_type": "code",
      "metadata": {
        "colab": {
          "base_uri": "https://localhost:8080/"
        },
        "id": "dUqkvctrDkJL",
        "outputId": "527f15d7-5f51-4f31-be6c-68d8ec1b4375"
      },
      "source": [
        "Students.setdefault(15,1)"
      ],
      "execution_count": null,
      "outputs": [
        {
          "output_type": "execute_result",
          "data": {
            "text/plain": [
              "1"
            ]
          },
          "metadata": {
            "tags": []
          },
          "execution_count": 28
        }
      ]
    },
    {
      "cell_type": "code",
      "metadata": {
        "colab": {
          "base_uri": "https://localhost:8080/"
        },
        "id": "XNCw76y1DxtW",
        "outputId": "0f1e00c9-5851-41cf-ec9c-186dd88f2d88"
      },
      "source": [
        "Students"
      ],
      "execution_count": null,
      "outputs": [
        {
          "output_type": "execute_result",
          "data": {
            "text/plain": [
              "{15: 1, 'Anand': 15, 'Ankit': 2, 'Karishma': 3, 'Tasneem': 4, 'Ujjwal': 5}"
            ]
          },
          "metadata": {
            "tags": []
          },
          "execution_count": 29
        }
      ]
    },
    {
      "cell_type": "code",
      "metadata": {
        "id": "xfAEY4rED0Dl"
      },
      "source": [
        "del Students[15]"
      ],
      "execution_count": null,
      "outputs": []
    },
    {
      "cell_type": "code",
      "metadata": {
        "id": "lQosvtezEGPJ"
      },
      "source": [
        "Students={\"ujjwal\":6}"
      ],
      "execution_count": null,
      "outputs": []
    },
    {
      "cell_type": "code",
      "metadata": {
        "colab": {
          "base_uri": "https://localhost:8080/"
        },
        "id": "DiytneV3EHUG",
        "outputId": "96c2c10c-3b99-4186-f2f6-a973a2ad8e95"
      },
      "source": [
        "Students"
      ],
      "execution_count": null,
      "outputs": [
        {
          "output_type": "execute_result",
          "data": {
            "text/plain": [
              "{'ujjwal': 6}"
            ]
          },
          "metadata": {
            "tags": []
          },
          "execution_count": 32
        }
      ]
    },
    {
      "cell_type": "code",
      "metadata": {
        "id": "TklbkFG5EfsC"
      },
      "source": [
        ""
      ],
      "execution_count": null,
      "outputs": []
    }
  ]
}