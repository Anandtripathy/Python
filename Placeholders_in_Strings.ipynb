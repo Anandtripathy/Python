{
  "nbformat": 4,
  "nbformat_minor": 0,
  "metadata": {
    "colab": {
      "name": "Placeholders in Strings.ipynb",
      "provenance": [],
      "collapsed_sections": [],
      "authorship_tag": "ABX9TyMcKGdo6nRNHuvHmcuVSIYl"
    },
    "kernelspec": {
      "name": "python3",
      "display_name": "Python 3"
    },
    "language_info": {
      "name": "python"
    }
  },
  "cells": [
    {
      "cell_type": "code",
      "metadata": {
        "colab": {
          "base_uri": "https://localhost:8080/",
          "height": 35
        },
        "id": "lfGTzn5481IJ",
        "outputId": "e8f880b0-59bc-4002-abb1-0a7f6154f90e"
      },
      "source": [
        "name=\"Jake\"\n",
        "name + \" \" +\"Is 16 years old\""
      ],
      "execution_count": null,
      "outputs": [
        {
          "output_type": "execute_result",
          "data": {
            "application/vnd.google.colaboratory.intrinsic+json": {
              "type": "string"
            },
            "text/plain": [
              "'Jake Is 16 years old'"
            ]
          },
          "metadata": {
            "tags": []
          },
          "execution_count": 1
        }
      ]
    },
    {
      "cell_type": "code",
      "metadata": {
        "colab": {
          "base_uri": "https://localhost:8080/",
          "height": 35
        },
        "id": "_8476T7y9AAd",
        "outputId": "e6b0f0dc-5d12-43db-a71c-be82f561e1e3"
      },
      "source": [
        "sent = \"%s is 15 years of old\"\n",
        "sent"
      ],
      "execution_count": null,
      "outputs": [
        {
          "output_type": "execute_result",
          "data": {
            "application/vnd.google.colaboratory.intrinsic+json": {
              "type": "string"
            },
            "text/plain": [
              "'%s is 15 years of old'"
            ]
          },
          "metadata": {
            "tags": []
          },
          "execution_count": 2
        }
      ]
    },
    {
      "cell_type": "code",
      "metadata": {
        "colab": {
          "base_uri": "https://localhost:8080/",
          "height": 35
        },
        "id": "ZCObQhDt9qr8",
        "outputId": "970d1394-8135-4caf-f38f-2f241c8620f1"
      },
      "source": [
        "sent%name   # '%' sign is used for place holders "
      ],
      "execution_count": null,
      "outputs": [
        {
          "output_type": "execute_result",
          "data": {
            "application/vnd.google.colaboratory.intrinsic+json": {
              "type": "string"
            },
            "text/plain": [
              "'Jake is 15 years of old'"
            ]
          },
          "metadata": {
            "tags": []
          },
          "execution_count": 3
        }
      ]
    },
    {
      "cell_type": "code",
      "metadata": {
        "id": "FDxz5gBx9tRV"
      },
      "source": [
        "sent =\" %s %s is the president of United State of America\""
      ],
      "execution_count": null,
      "outputs": []
    },
    {
      "cell_type": "code",
      "metadata": {
        "colab": {
          "base_uri": "https://localhost:8080/",
          "height": 35
        },
        "id": "lK3iiJEJ9vg4",
        "outputId": "60ad0394-d5e8-44ec-c5d9-4fa305999f42"
      },
      "source": [
        "sent%(\"Barak\",\"Obama\")"
      ],
      "execution_count": null,
      "outputs": [
        {
          "output_type": "execute_result",
          "data": {
            "application/vnd.google.colaboratory.intrinsic+json": {
              "type": "string"
            },
            "text/plain": [
              "' Barak Obama is the president of United State of America'"
            ]
          },
          "metadata": {
            "tags": []
          },
          "execution_count": 5
        }
      ]
    },
    {
      "cell_type": "code",
      "metadata": {
        "id": "lgxTZ58P_lIP"
      },
      "source": [
        "sent2=sent"
      ],
      "execution_count": null,
      "outputs": []
    },
    {
      "cell_type": "code",
      "metadata": {
        "id": "rIZZ8iXw1Bmb"
      },
      "source": [
        "sent2 =\" %s age %d is the president of United State of America\""
      ],
      "execution_count": null,
      "outputs": []
    },
    {
      "cell_type": "code",
      "metadata": {
        "colab": {
          "base_uri": "https://localhost:8080/",
          "height": 35
        },
        "id": "ReLjvacg1Cmv",
        "outputId": "17297132-1ba6-45e7-f4c2-d463a4d2f3a8"
      },
      "source": [
        "sent2%('obama',50)"
      ],
      "execution_count": null,
      "outputs": [
        {
          "output_type": "execute_result",
          "data": {
            "application/vnd.google.colaboratory.intrinsic+json": {
              "type": "string"
            },
            "text/plain": [
              "' obama age 50 is the president of United State of America'"
            ]
          },
          "metadata": {
            "tags": []
          },
          "execution_count": 11
        }
      ]
    },
    {
      "cell_type": "code",
      "metadata": {
        "id": "WgrWhrpi1izg"
      },
      "source": [
        "List=[1,2,3,4,4,5,6,\"Anand\"]"
      ],
      "execution_count": null,
      "outputs": []
    },
    {
      "cell_type": "code",
      "metadata": {
        "id": "dX4aD9B22O6k"
      },
      "source": [
        "List.append(\"Blueberries\")"
      ],
      "execution_count": null,
      "outputs": []
    },
    {
      "cell_type": "code",
      "metadata": {
        "id": "hCOtiBXW2QyB"
      },
      "source": [
        "List[0]=\"cherries\""
      ],
      "execution_count": null,
      "outputs": []
    },
    {
      "cell_type": "code",
      "metadata": {
        "colab": {
          "base_uri": "https://localhost:8080/"
        },
        "id": "nHC6YPJ137jW",
        "outputId": "cab528d3-9424-4659-975b-eca9948c7d8a"
      },
      "source": [
        "List"
      ],
      "execution_count": null,
      "outputs": [
        {
          "output_type": "execute_result",
          "data": {
            "text/plain": [
              "['cherries', 2, 3, 4, 4, 5, 6, 'Anand', 'Blueberries']"
            ]
          },
          "metadata": {
            "tags": []
          },
          "execution_count": 39
        }
      ]
    },
    {
      "cell_type": "code",
      "metadata": {
        "id": "eaicH8GE4eXI"
      },
      "source": [
        "List.reverse()"
      ],
      "execution_count": null,
      "outputs": []
    },
    {
      "cell_type": "code",
      "metadata": {
        "colab": {
          "base_uri": "https://localhost:8080/"
        },
        "id": "CVvAp_aZ4pcw",
        "outputId": "573791b2-0bee-47d4-bbf9-129a92e4d3cc"
      },
      "source": [
        "List"
      ],
      "execution_count": null,
      "outputs": [
        {
          "output_type": "execute_result",
          "data": {
            "text/plain": [
              "['Blueberries', 'Anand', 6, 5, 4, 4, 3, 2, 'cherries']"
            ]
          },
          "metadata": {
            "tags": []
          },
          "execution_count": 41
        }
      ]
    },
    {
      "cell_type": "code",
      "metadata": {
        "id": "g_xOG5gI4qf5"
      },
      "source": [
        "List.remove(4)"
      ],
      "execution_count": null,
      "outputs": []
    },
    {
      "cell_type": "code",
      "metadata": {
        "colab": {
          "base_uri": "https://localhost:8080/"
        },
        "id": "00JjwTCC4yF9",
        "outputId": "6548c6c9-28fe-4608-9d43-f84ef8c5b314"
      },
      "source": [
        "List"
      ],
      "execution_count": null,
      "outputs": [
        {
          "output_type": "execute_result",
          "data": {
            "text/plain": [
              "['Blueberries', 'Anand', 6, 5, 4, 3, 2, 'cherries']"
            ]
          },
          "metadata": {
            "tags": []
          },
          "execution_count": 43
        }
      ]
    },
    {
      "cell_type": "code",
      "metadata": {
        "id": "IDJYXo-c4z_N"
      },
      "source": [
        "List.remove(\"Anand\")"
      ],
      "execution_count": null,
      "outputs": []
    },
    {
      "cell_type": "code",
      "metadata": {
        "id": "yHsDvYXd5MJA"
      },
      "source": [
        "del List[4]"
      ],
      "execution_count": null,
      "outputs": []
    },
    {
      "cell_type": "code",
      "metadata": {
        "colab": {
          "base_uri": "https://localhost:8080/"
        },
        "id": "nxJZ-oNV5Nql",
        "outputId": "0bc9ea97-d5df-46df-871f-aefff3d6b9b1"
      },
      "source": [
        "List"
      ],
      "execution_count": null,
      "outputs": [
        {
          "output_type": "execute_result",
          "data": {
            "text/plain": [
              "['Blueberries', 6, 5, 4, 2, 'cherries']"
            ]
          },
          "metadata": {
            "tags": []
          },
          "execution_count": 49
        }
      ]
    },
    {
      "cell_type": "code",
      "metadata": {
        "colab": {
          "base_uri": "https://localhost:8080/"
        },
        "id": "MZh0qZji8_G8",
        "outputId": "ec9c3658-4940-482d-ba10-bc5f7cc03624"
      },
      "source": [
        "len(List)"
      ],
      "execution_count": null,
      "outputs": [
        {
          "output_type": "execute_result",
          "data": {
            "text/plain": [
              "6"
            ]
          },
          "metadata": {
            "tags": []
          },
          "execution_count": 50
        }
      ]
    },
    {
      "cell_type": "code",
      "metadata": {
        "id": "V4rvUB9I9L9z"
      },
      "source": [
        "List1=[\"Bread\",'butter','Jam','PeanutButter']"
      ],
      "execution_count": null,
      "outputs": []
    },
    {
      "cell_type": "code",
      "metadata": {
        "colab": {
          "base_uri": "https://localhost:8080/"
        },
        "id": "vu11m6Gy_XmH",
        "outputId": "b333a7db-4d9a-48b6-c6f6-75bf48ca274d"
      },
      "source": [
        "len(List + List1)"
      ],
      "execution_count": null,
      "outputs": [
        {
          "output_type": "execute_result",
          "data": {
            "text/plain": [
              "10"
            ]
          },
          "metadata": {
            "tags": []
          },
          "execution_count": 55
        }
      ]
    },
    {
      "cell_type": "code",
      "metadata": {
        "colab": {
          "base_uri": "https://localhost:8080/"
        },
        "id": "iKK2PkZe_e3V",
        "outputId": "ad94c192-9e74-4889-a7bf-1afa9f4ef16b"
      },
      "source": [
        ""
      ],
      "execution_count": null,
      "outputs": [
        {
          "output_type": "execute_result",
          "data": {
            "text/plain": [
              "['Blueberries', 6, 5, 4, 2, 'cherries', 'Blueberries', 6, 5, 4, 2, 'cherries']"
            ]
          },
          "metadata": {
            "tags": []
          },
          "execution_count": 56
        }
      ]
    },
    {
      "cell_type": "code",
      "metadata": {
        "id": "lsyLZZcd_ww0"
      },
      "source": [
        ""
      ],
      "execution_count": null,
      "outputs": []
    },
    {
      "cell_type": "markdown",
      "metadata": {
        "id": "abUYEAjAANT5"
      },
      "source": [
        "# Dictionaries"
      ]
    },
    {
      "cell_type": "code",
      "metadata": {
        "id": "3h6hF4BzB6WO"
      },
      "source": [
        "Students= {'Anand': 1 ,\"Ankit\":2,\"Karishma\":3,\"Tasneem\":4,\"Ujjwal\":5}"
      ],
      "execution_count": null,
      "outputs": []
    },
    {
      "cell_type": "code",
      "metadata": {
        "colab": {
          "base_uri": "https://localhost:8080/"
        },
        "id": "S_KSB3wyCKQs",
        "outputId": "3099864f-ca32-40df-f5b2-ec60c107c74a"
      },
      "source": [
        "Students"
      ],
      "execution_count": null,
      "outputs": [
        {
          "output_type": "execute_result",
          "data": {
            "text/plain": [
              "{'Anand': 1, 'Ankit': 2, 'Karishma': 3, 'Tasneem': 4, 'Ujjwal': 5}"
            ]
          },
          "metadata": {
            "tags": []
          },
          "execution_count": 63
        }
      ]
    },
    {
      "cell_type": "code",
      "metadata": {
        "colab": {
          "base_uri": "https://localhost:8080/"
        },
        "id": "j0TYrqO8DHEA",
        "outputId": "767d73b6-dffe-438b-ac80-af2e08ecd612"
      },
      "source": [
        "Students['Anand']"
      ],
      "execution_count": null,
      "outputs": [
        {
          "output_type": "execute_result",
          "data": {
            "text/plain": [
              "1"
            ]
          },
          "metadata": {
            "tags": []
          },
          "execution_count": 64
        }
      ]
    },
    {
      "cell_type": "code",
      "metadata": {
        "id": "5bt8hGrwDUKm"
      },
      "source": [
        "Students['Anand']=15"
      ],
      "execution_count": null,
      "outputs": []
    },
    {
      "cell_type": "code",
      "metadata": {
        "colab": {
          "base_uri": "https://localhost:8080/"
        },
        "id": "2lkXAttmDi68",
        "outputId": "b78ebf3d-b033-4949-b1bf-edcd03ca24f6"
      },
      "source": [
        "Students"
      ],
      "execution_count": null,
      "outputs": [
        {
          "output_type": "execute_result",
          "data": {
            "text/plain": [
              "{'Anand': 15, 'Ankit': 2, 'Karishma': 3, 'Tasneem': 4, 'Ujjwal': 5}"
            ]
          },
          "metadata": {
            "tags": []
          },
          "execution_count": 66
        }
      ]
    },
    {
      "cell_type": "code",
      "metadata": {
        "colab": {
          "base_uri": "https://localhost:8080/"
        },
        "id": "dUqkvctrDkJL",
        "outputId": "cbdfd0e2-ee09-4d42-d10c-5ab07dd3c4ef"
      },
      "source": [
        "Students.setdefault(15,1)"
      ],
      "execution_count": null,
      "outputs": [
        {
          "output_type": "execute_result",
          "data": {
            "text/plain": [
              "1"
            ]
          },
          "metadata": {
            "tags": []
          },
          "execution_count": 67
        }
      ]
    },
    {
      "cell_type": "code",
      "metadata": {
        "colab": {
          "base_uri": "https://localhost:8080/"
        },
        "id": "XNCw76y1DxtW",
        "outputId": "a19ed93a-1db6-41b5-d1e7-1e90db6bcacd"
      },
      "source": [
        "Students"
      ],
      "execution_count": null,
      "outputs": [
        {
          "output_type": "execute_result",
          "data": {
            "text/plain": [
              "{15: 1, 'Anand': 15, 'Ankit': 2, 'Karishma': 3, 'Tasneem': 4, 'Ujjwal': 5}"
            ]
          },
          "metadata": {
            "tags": []
          },
          "execution_count": 68
        }
      ]
    },
    {
      "cell_type": "code",
      "metadata": {
        "id": "xfAEY4rED0Dl"
      },
      "source": [
        "del Students[15]"
      ],
      "execution_count": null,
      "outputs": []
    },
    {
      "cell_type": "code",
      "metadata": {
        "id": "lQosvtezEGPJ"
      },
      "source": [
        "Students={\"ujjwal\":6}"
      ],
      "execution_count": null,
      "outputs": []
    },
    {
      "cell_type": "code",
      "metadata": {
        "colab": {
          "base_uri": "https://localhost:8080/"
        },
        "id": "DiytneV3EHUG",
        "outputId": "91f19d2b-4bd0-4ce7-b55e-6ec7eb62b401"
      },
      "source": [
        "Students"
      ],
      "execution_count": null,
      "outputs": [
        {
          "output_type": "execute_result",
          "data": {
            "text/plain": [
              "{'ujjwal': 6}"
            ]
          },
          "metadata": {
            "tags": []
          },
          "execution_count": 78
        }
      ]
    },
    {
      "cell_type": "code",
      "metadata": {
        "id": "TklbkFG5EfsC"
      },
      "source": [
        ""
      ],
      "execution_count": null,
      "outputs": []
    }
  ]
}