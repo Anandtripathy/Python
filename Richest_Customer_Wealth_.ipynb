{
  "nbformat": 4,
  "nbformat_minor": 0,
  "metadata": {
    "colab": {
      "name": "Richest Customer Wealth .ipynb",
      "provenance": [],
      "collapsed_sections": [],
      "authorship_tag": "ABX9TyM/yXPMwVGV0t6+1j/LMg1L"
    },
    "kernelspec": {
      "name": "python3",
      "display_name": "Python 3"
    }
  },
  "cells": [
    {
      "cell_type": "code",
      "metadata": {
        "id": "U64De9W0FCRq"
      },
      "source": [
        ""
      ],
      "execution_count": null,
      "outputs": []
    },
    {
      "cell_type": "markdown",
      "metadata": {
        "id": "Z7Kd25e9Fnf9"
      },
      "source": [
        "Question: You are given an m x n integer grid accounts where accounts[i][j] is the amount of money the i​​​​​​​​​​​th​​​​ customer has in the j​​​​​​​​​​​th​​​​ bank. Return the wealth that the richest customer has.\r\n",
        "\r\n",
        "A customer's wealth is the amount of money they have in all their bank accounts. The richest customer is the customer that has the maximum wealth.\r\n",
        "\r\n",
        "https://leetcode.com/problems/richest-customer-wealth/submissions/"
      ]
    },
    {
      "cell_type": "code",
      "metadata": {
        "id": "fy6hFYlKFVqo"
      },
      "source": [
        "class Solution:\r\n",
        "  def maximumWealth (self, accounts: List[List[int]]) -> int:\r\n",
        "    wealth=0\r\n",
        "    final_value=[]\r\n",
        "    for curr_ele in accounts:\r\n",
        "      final_value.append(sum(curr_ele))\r\n",
        "      print(final_value)\r\n",
        "      wealth=max(final_value)\r\n",
        "    return wealth"
      ],
      "execution_count": null,
      "outputs": []
    }
  ]
}