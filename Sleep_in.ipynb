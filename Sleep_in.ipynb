{
  "nbformat": 4,
  "nbformat_minor": 0,
  "metadata": {
    "colab": {
      "name": "Sleep_in.ipynb",
      "provenance": [],
      "collapsed_sections": [],
      "authorship_tag": "ABX9TyNOnSj5Xg+8NEhtMI5qFbTp"
    },
    "kernelspec": {
      "name": "python3",
      "display_name": "Python 3"
    }
  },
  "cells": [
    {
      "cell_type": "code",
      "metadata": {
        "id": "ZqtBml47VOAM"
      },
      "source": [
        "'''The parameter weekday is True if it is a weekday, and the parameter vacation is \r\n",
        "True if we are on vacation. We sleep in if it is not a weekday or we're on vacation. \r\n",
        "Return True if we sleep in.\r\n",
        "\r\n",
        "\r\n",
        "sleep_in(False, False) → True\r\n",
        "sleep_in(True, False) → False\r\n",
        "sleep_in(False, True) → True\r\n",
        "'''\r\n"
      ],
      "execution_count": 5,
      "outputs": []
    },
    {
      "cell_type": "code",
      "metadata": {
        "id": "AePqAbWrUuD6"
      },
      "source": [
        "def sleep_in(weekday, vacation):\r\n",
        "  if not weekday or vacation:\r\n",
        "    return True\r\n",
        "  else:\r\n",
        "    return False"
      ],
      "execution_count": 3,
      "outputs": []
    },
    {
      "cell_type": "code",
      "metadata": {
        "id": "4fIJ03QaYktD"
      },
      "source": [
        ""
      ],
      "execution_count": null,
      "outputs": []
    }
  ]
}