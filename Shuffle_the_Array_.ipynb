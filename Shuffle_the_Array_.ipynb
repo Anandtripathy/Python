{
  "nbformat": 4,
  "nbformat_minor": 0,
  "metadata": {
    "colab": {
      "name": "Shuffle the Array .ipynb",
      "provenance": [],
      "authorship_tag": "ABX9TyMv+nDNw+z5kGZ6y+w+NwKX"
    },
    "kernelspec": {
      "name": "python3",
      "display_name": "Python 3"
    }
  },
  "cells": [
    {
      "cell_type": "markdown",
      "metadata": {
        "id": "sl3sTyw0hmqw"
      },
      "source": [
        ""
      ]
    },
    {
      "cell_type": "markdown",
      "metadata": {
        "id": "RxB5G_BphszX"
      },
      "source": [
        "Given the array nums consisting of 2n elements in the form [x1,x2,...,xn,y1,y2,...,yn].\r\n",
        "\r\n",
        "Return the array in the form [x1,y1,x2,y2,...,xn,yn].\r\n",
        "\r\n",
        "https://leetcode.com/problems/shuffle-the-array/"
      ]
    },
    {
      "cell_type": "code",
      "metadata": {
        "id": "VqkVk7r0hiVG"
      },
      "source": [
        "class Solution:\r\n",
        "    def shuffle(self, nums: List[int], n: int) -> List[int]:\r\n",
        "        final_list=[]\r\n",
        "        left=nums[0:n]\r\n",
        "        right=nums[n:len(nums)]\r\n",
        "        print(left)\r\n",
        "        print(right)\r\n",
        "        for i in range (len(left)):\r\n",
        "            final_list.append(left[i])\r\n",
        "            final_list.append(right[i])\r\n",
        "        return(final_list)\r\n",
        "        "
      ],
      "execution_count": null,
      "outputs": []
    }
  ]
}