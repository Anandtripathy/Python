{
  "nbformat": 4,
  "nbformat_minor": 0,
  "metadata": {
    "colab": {
      "name": "Data-types.ipynb",
      "provenance": [],
      "collapsed_sections": [],
      "authorship_tag": "ABX9TyMAf8lOFBbT2/jrngbv7Qot"
    },
    "kernelspec": {
      "name": "python3",
      "display_name": "Python 3"
    }
  },
  "cells": [
    {
      "cell_type": "code",
      "metadata": {
        "colab": {
          "base_uri": "https://localhost:8080/"
        },
        "id": "PTeqbIP5zqP3",
        "outputId": "d9d8140d-fe41-4479-d6b6-e26e464a51b8"
      },
      "source": [
        "a=5\r\n",
        "print(a,\"is a type of\",type(a))"
      ],
      "execution_count": 21,
      "outputs": [
        {
          "output_type": "stream",
          "text": [
            "5 is a type of <class 'int'>\n"
          ],
          "name": "stdout"
        }
      ]
    },
    {
      "cell_type": "code",
      "metadata": {
        "colab": {
          "base_uri": "https://localhost:8080/"
        },
        "id": "Rn-1z_5x0G6f",
        "outputId": "353fca51-3033-4acf-b636-f98fb3c0aa52"
      },
      "source": [
        "a=\"abc\"\r\n",
        "print(a,\"is a type of\",type(a))"
      ],
      "execution_count": 22,
      "outputs": [
        {
          "output_type": "stream",
          "text": [
            "abc is a type of <class 'str'>\n"
          ],
          "name": "stdout"
        }
      ]
    },
    {
      "cell_type": "code",
      "metadata": {
        "colab": {
          "base_uri": "https://localhost:8080/"
        },
        "id": "k_nXwyu00PAb",
        "outputId": "2db89510-334e-402e-dacd-8015b3eb994c"
      },
      "source": [
        "a=2.0\r\n",
        "print(a,\"is a type of\",type(a))"
      ],
      "execution_count": 23,
      "outputs": [
        {
          "output_type": "stream",
          "text": [
            "2.0 is a type of <class 'float'>\n"
          ],
          "name": "stdout"
        }
      ]
    },
    {
      "cell_type": "code",
      "metadata": {
        "colab": {
          "base_uri": "https://localhost:8080/"
        },
        "id": "h7xlAD4E0bma",
        "outputId": "523647f8-5c49-44fa-94dc-99a21b758f60"
      },
      "source": [
        "a=1+2j\r\n",
        "print(a,\"is a complex number ?\",isinstance(1+2j,complex))"
      ],
      "execution_count": 24,
      "outputs": [
        {
          "output_type": "stream",
          "text": [
            "(1+2j) is a complex number ? True\n"
          ],
          "name": "stdout"
        }
      ]
    },
    {
      "cell_type": "code",
      "metadata": {
        "colab": {
          "base_uri": "https://localhost:8080/"
        },
        "id": "gqRmKIcb0qF8",
        "outputId": "cece3b86-d0fe-4548-9d04-4d0c36cad4ec"
      },
      "source": [
        "a=[1,a,'python']\r\n",
        "print(a,\"Data type\",type(a))"
      ],
      "execution_count": 25,
      "outputs": [
        {
          "output_type": "stream",
          "text": [
            "[1, (1+2j), 'python'] Data type <class 'list'>\n"
          ],
          "name": "stdout"
        }
      ]
    },
    {
      "cell_type": "code",
      "metadata": {
        "colab": {
          "base_uri": "https://localhost:8080/"
        },
        "id": "09u5Zx-q1ais",
        "outputId": "ab57a6ad-3097-4654-cefd-d351697c2c09"
      },
      "source": [
        "# Slicing operator\r\n",
        "a=[1,2,3,4,5,6,11,13,12,14]\r\n",
        "print(a)\r\n",
        "print(a[2])\r\n",
        "print(a[0:5])\r\n",
        "print(a[5:])\r\n",
        "print(\"Data type\",type(a))"
      ],
      "execution_count": 26,
      "outputs": [
        {
          "output_type": "stream",
          "text": [
            "[1, 2, 3, 4, 5, 6, 11, 13, 12, 14]\n",
            "3\n",
            "[1, 2, 3, 4, 5]\n",
            "[6, 11, 13, 12, 14]\n",
            "Data type <class 'list'>\n"
          ],
          "name": "stdout"
        }
      ]
    },
    {
      "cell_type": "code",
      "metadata": {
        "id": "ExEjFW2V1ylC",
        "colab": {
          "base_uri": "https://localhost:8080/",
          "height": 232
        },
        "outputId": "30880be0-dd12-4da3-fa17-2d333fd0b5ce"
      },
      "source": [
        "# python Tuples:\r\n",
        "b=(5,'program',1+3j)\r\n",
        "print(b)\r\n",
        "print(b[1])\r\n",
        "b[0]=10"
      ],
      "execution_count": 32,
      "outputs": [
        {
          "output_type": "stream",
          "text": [
            "(5, 'program', (1+3j))\n",
            "program\n"
          ],
          "name": "stdout"
        },
        {
          "output_type": "error",
          "ename": "TypeError",
          "evalue": "ignored",
          "traceback": [
            "\u001b[0;31m---------------------------------------------------------------------------\u001b[0m",
            "\u001b[0;31mTypeError\u001b[0m                                 Traceback (most recent call last)",
            "\u001b[0;32m<ipython-input-32-f763e9f860f8>\u001b[0m in \u001b[0;36m<module>\u001b[0;34m()\u001b[0m\n\u001b[1;32m      3\u001b[0m \u001b[0mprint\u001b[0m\u001b[0;34m(\u001b[0m\u001b[0mb\u001b[0m\u001b[0;34m)\u001b[0m\u001b[0;34m\u001b[0m\u001b[0;34m\u001b[0m\u001b[0m\n\u001b[1;32m      4\u001b[0m \u001b[0mprint\u001b[0m\u001b[0;34m(\u001b[0m\u001b[0mb\u001b[0m\u001b[0;34m[\u001b[0m\u001b[0;36m1\u001b[0m\u001b[0;34m]\u001b[0m\u001b[0;34m)\u001b[0m\u001b[0;34m\u001b[0m\u001b[0;34m\u001b[0m\u001b[0m\n\u001b[0;32m----> 5\u001b[0;31m \u001b[0mb\u001b[0m\u001b[0;34m[\u001b[0m\u001b[0;36m0\u001b[0m\u001b[0;34m]\u001b[0m\u001b[0;34m=\u001b[0m\u001b[0;36m10\u001b[0m\u001b[0;34m\u001b[0m\u001b[0;34m\u001b[0m\u001b[0m\n\u001b[0m",
            "\u001b[0;31mTypeError\u001b[0m: 'tuple' object does not support item assignment"
          ]
        }
      ]
    },
    {
      "cell_type": "code",
      "metadata": {
        "colab": {
          "base_uri": "https://localhost:8080/"
        },
        "id": "Yjj13vji3Mox",
        "outputId": "a70df4a6-4c2e-49ec-f3a3-904775adb26e"
      },
      "source": [
        "#python Set:\r\n",
        "c={1,2,3,4,5,6,7,8}\r\n",
        "print(\"Data type\",type(c))\r\n",
        "d={1,2,3,3,4,4,4}\r\n",
        "print(\"d: \",d)"
      ],
      "execution_count": 37,
      "outputs": [
        {
          "output_type": "stream",
          "text": [
            "Data type <class 'set'>\n",
            "d:  {1, 2, 3, 4}\n"
          ],
          "name": "stdout"
        }
      ]
    },
    {
      "cell_type": "code",
      "metadata": {
        "colab": {
          "base_uri": "https://localhost:8080/"
        },
        "id": "HsQy6rEX4C4u",
        "outputId": "c6dcdd07-0a17-47f3-d901-77c1c2eb0838"
      },
      "source": [
        "#python dictionary\r\n",
        "e={1:\"value\",2:'key'}\r\n",
        "print(\"e\",e)\r\n",
        "type(e)"
      ],
      "execution_count": 40,
      "outputs": [
        {
          "output_type": "stream",
          "text": [
            "e {1: 'value', 2: 'key'}\n"
          ],
          "name": "stdout"
        },
        {
          "output_type": "execute_result",
          "data": {
            "text/plain": [
              "dict"
            ]
          },
          "metadata": {
            "tags": []
          },
          "execution_count": 40
        }
      ]
    },
    {
      "cell_type": "code",
      "metadata": {
        "id": "MzEvNlvY45Gt"
      },
      "source": [
        ""
      ],
      "execution_count": null,
      "outputs": []
    }
  ]
}