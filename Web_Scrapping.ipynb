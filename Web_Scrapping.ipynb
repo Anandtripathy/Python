{
  "nbformat": 4,
  "nbformat_minor": 0,
  "metadata": {
    "colab": {
      "name": "Web_Scrapping.ipynb",
      "provenance": [],
      "authorship_tag": "ABX9TyPGkkZDeYNqdyeItrzJK6bl"
    },
    "kernelspec": {
      "name": "python3",
      "display_name": "Python 3"
    },
    "language_info": {
      "name": "python"
    }
  },
  "cells": [
    {
      "cell_type": "code",
      "metadata": {
        "id": "s0yTAp6Idshh"
      },
      "source": [
        "import requests\n",
        "import bs4"
      ],
      "execution_count": 1,
      "outputs": []
    },
    {
      "cell_type": "code",
      "metadata": {
        "id": "nNvw5h1seBIO"
      },
      "source": [
        "from urllib.request import urlopen as ureq"
      ],
      "execution_count": 4,
      "outputs": []
    },
    {
      "cell_type": "code",
      "metadata": {
        "id": "WfRk8JKXeHp2"
      },
      "source": [
        "from bs4 import BeautifulSoup as soup"
      ],
      "execution_count": 6,
      "outputs": []
    },
    {
      "cell_type": "code",
      "metadata": {
        "id": "4z1-yI_RvfBi"
      },
      "source": [
        ""
      ],
      "execution_count": null,
      "outputs": []
    }
  ]
}