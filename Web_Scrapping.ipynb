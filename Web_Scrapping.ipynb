{
  "nbformat": 4,
  "nbformat_minor": 0,
  "metadata": {
    "colab": {
      "name": "Web_Scrapping.ipynb",
      "provenance": [],
      "authorship_tag": "ABX9TyPSEti86tuPONvub+1YWDWc"
    },
    "kernelspec": {
      "name": "python3",
      "display_name": "Python 3"
    },
    "language_info": {
      "name": "python"
    }
  },
  "cells": [
    {
      "cell_type": "code",
      "metadata": {
        "id": "s0yTAp6Idshh"
      },
      "source": [
        "import requests\n",
        "import bs4"
      ],
      "execution_count": null,
      "outputs": []
    },
    {
      "cell_type": "code",
      "metadata": {
        "id": "nNvw5h1seBIO"
      },
      "source": [
        "from urllib.request import urlopen as ureq"
      ],
      "execution_count": null,
      "outputs": []
    },
    {
      "cell_type": "code",
      "metadata": {
        "id": "WfRk8JKXeHp2"
      },
      "source": [
        "from bs4 import BeautifulSoup as soup"
      ],
      "execution_count": null,
      "outputs": []
    },
    {
      "cell_type": "code",
      "metadata": {
        "id": "4z1-yI_RvfBi"
      },
      "source": [
        "my_url='https://www.newegg.com/p/pl?d=graphic+card'"
      ],
      "execution_count": null,
      "outputs": []
    },
    {
      "cell_type": "code",
      "metadata": {
        "id": "byI0vR3KzNX2"
      },
      "source": [
        "uClient=ureq(my_url)"
      ],
      "execution_count": null,
      "outputs": []
    },
    {
      "cell_type": "code",
      "metadata": {
        "id": "671AXJ1dzUg2"
      },
      "source": [
        "page_html = uClient.read()"
      ],
      "execution_count": null,
      "outputs": []
    },
    {
      "cell_type": "code",
      "metadata": {
        "id": "OW7qMNnZzl4_"
      },
      "source": [
        "uClient.close()"
      ],
      "execution_count": null,
      "outputs": []
    },
    {
      "cell_type": "code",
      "metadata": {
        "id": "FD7DatcFzr0O"
      },
      "source": [
        "page_soup=soup(page_html, \"html.parser\")"
      ],
      "execution_count": null,
      "outputs": []
    },
    {
      "cell_type": "code",
      "metadata": {
        "colab": {
          "base_uri": "https://localhost:8080/"
        },
        "id": "MLCanUn40K2C",
        "outputId": "b045d44c-c21c-467b-b767-173f64aec66e"
      },
      "source": [
        "page_soup.h1"
      ],
      "execution_count": null,
      "outputs": [
        {
          "output_type": "execute_result",
          "data": {
            "text/plain": [
              "<h1 class=\"page-title-text\">\"graphic card\"</h1>"
            ]
          },
          "metadata": {
            "tags": []
          },
          "execution_count": 13
        }
      ]
    },
    {
      "cell_type": "code",
      "metadata": {
        "colab": {
          "base_uri": "https://localhost:8080/"
        },
        "id": "USyDjjB50jM3",
        "outputId": "10dd15bb-9f00-4ab2-8a7b-ae78bbea134f"
      },
      "source": [
        "page_soup.p"
      ],
      "execution_count": null,
      "outputs": [
        {
          "output_type": "execute_result",
          "data": {
            "text/plain": [
              "<p>You’re seeing this ad based on the product’s relevance to your search query. If you are a seller and want to participate in this program click here to <a class=\"link-blue\" href=\"https://www.newegg.com/sellers/index.php/marketing-sponsored-product-ads/\">learn more</a>.</p>"
            ]
          },
          "metadata": {
            "tags": []
          },
          "execution_count": 14
        }
      ]
    },
    {
      "cell_type": "code",
      "metadata": {
        "colab": {
          "base_uri": "https://localhost:8080/"
        },
        "id": "f50e5Pg40v6l",
        "outputId": "c886a5b0-9fc7-4c6e-bf70-469cc6e62ba1"
      },
      "source": [
        "page_soup.body.header"
      ],
      "execution_count": null,
      "outputs": [
        {
          "output_type": "execute_result",
          "data": {
            "text/plain": [
              "<header class=\"header2020\"><div class=\"header2020-inner\"><div class=\"header2020-hamburger menu-box is-gray-menu\"><i aria-label=\"Site Menu\" class=\"fas fa-bars\"></i></div><div class=\"header2020-logo\"><a class=\"header2020-logo-img\" href=\"https://www.newegg.com/\" title=\"Newegg.com - Computer Parts, Laptops, Electronics, HDTVs, Digital Cameras and More!\"><img alt=\"Newegg\" src=\"https://c1.neweggimages.com/WebResource/Themes/Nest/logos/logo_424x210.png\"/></a></div><div class=\"header2020-search\"><div class=\"header2020-search-bar\"><div class=\"header2020-search-bar-inner\"><div class=\"header2020-search-box is-focus\"><input aria-label=\"Keywords, Model # or Item #\" autocomplete=\"off\" placeholder=\"Keywords, Model # or Item #\" title=\"Search Site\" type=\"search\" value=\"graphic card\"/></div><div class=\"header2020-search-button\"><button class=\"fas fa-search\"><span class=\"hid-text\">Search</span></button></div></div></div><div class=\"header2020-portals\"></div></div><div class=\"header2020-right\"><div class=\"display-flex justify-content-flex-end\"><div class=\"nav-complex\"><a class=\"nav-complex-inner\" href=\"https://secure.newegg.com/NewMyAccount/AccountLogin.aspx?nextpage=\"><i class=\"fas fa-user-circle\"></i></a></div><div class=\"nav-complex\"><a aria-label=\"Shopping Cart\" class=\"nav-complex-inner\" href=\"https://secure.newegg.com/shop/cart\" title=\"Shopping Cart\"><i aria-label=\"icon of shopping cart\" class=\"fas fa-shopping-cart\"></i></a></div></div><div class=\"display-flex justify-content-flex-end\"><div class=\"header2020-links\"><a href=\"//www.neweggbusiness.com/ss/promotion/id-556?utm_medium=newegg&amp;utm_source=newegg-home&amp;cm_mmc=ref-newegg-_-newegg-home-_-na-_-na\" target=\"_blank\" title=\"Newegg Business\"><span class=\"header2020-b2b-newegg\">Newegg</span> <span class=\"header2020-b2b-business\">Business</span></a></div><div class=\"header2020-links\"><a title=\"Feedback\"><i class=\"fas fa-comment\"></i> <span>Feedback</span></a></div><div class=\"header2020-links menu-box is-gray-menu\"><a class=\"menu-box-trigger\" title=\"Customer Service\"><i aria-label=\"icon of Customer Service\" class=\"fas fa-question-circle\"></i> <span>Customer Service</span></a></div><div class=\"header2020-links\"><a class=\"open-popup\" title=\"Change Country\"><i class=\"flag us\"></i><span class=\"hid-text\">Change Country</span></a></div></div></div></div><div class=\"header2020-model-marker\"></div></header>"
            ]
          },
          "metadata": {
            "tags": []
          },
          "execution_count": 15
        }
      ]
    },
    {
      "cell_type": "code",
      "metadata": {
        "id": "Q6lUhmSP1ga0"
      },
      "source": [
        ""
      ],
      "execution_count": null,
      "outputs": []
    }
  ]
}