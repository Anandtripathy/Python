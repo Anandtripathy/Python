{
  "nbformat": 4,
  "nbformat_minor": 0,
  "metadata": {
    "colab": {
      "name": "app_notification.ipynb",
      "provenance": [],
      "collapsed_sections": [],
      "authorship_tag": "ABX9TyM/GYO5A+GhEEbFqllIn087"
    },
    "kernelspec": {
      "name": "python3",
      "display_name": "Python 3"
    }
  },
  "cells": [
    {
      "cell_type": "code",
      "metadata": {
        "id": "CG9VznTvuqVK"
      },
      "source": [
        "import datetime\r\n",
        "import time\r\n",
        "import requests\r\n",
        "from plyer import notification"
      ],
      "execution_count": 11,
      "outputs": []
    },
    {
      "cell_type": "code",
      "metadata": {
        "colab": {
          "base_uri": "https://localhost:8080/"
        },
        "id": "vqq4sjvrvBAy",
        "outputId": "30882555-7f21-4eb1-e3fa-6a81677daacf"
      },
      "source": [
        "covidData= None\r\n",
        "try:\r\n",
        "  covidData=requests.gets(\"https://corona-rest-api.herokuapp.com/Api/india/\")\r\n",
        "except:\r\n",
        "  #if the data is not fetch due to the lack of internet \r\n",
        "  print(\"Please check your internet\")"
      ],
      "execution_count": 12,
      "outputs": [
        {
          "output_type": "stream",
          "text": [
            "Please check your internet\n"
          ],
          "name": "stdout"
        }
      ]
    },
    {
      "cell_type": "code",
      "metadata": {
        "id": "7k_SVzt8wuqX"
      },
      "source": [
        "if(covidData !=None):\r\n",
        "  #converting the data in json format\r\n",
        "  data= covidData.json()['Success']\r\n",
        "\r\n",
        "  while(True):\r\n",
        "    notification.notify(\r\n",
        "        #title of the Notification\r\n",
        "        title='COVID 19 Stats on {}'.format(datetime.date.today()),\r\n",
        "        #the body of the notifcation:\r\n",
        "        message=\"Total case : {totalcases }\\n Today case:{todaycases}\\n Total deaths:{totaldeaths}\\n Total Active:{totalactive}\".format(\r\n",
        "            totalcases=data['cases'],\r\n",
        "            todaycases=data['todaycases'],\r\n",
        "            totaldeaths=data['totaldeaths'],\r\n",
        "            Active=data['active']),\r\n",
        "\r\n",
        "        app_icon = \"Paomedia-Small-N-Flat-Bell.ico\",\r\n",
        "        timeout= 50\r\n",
        "        )\r\n",
        "    time.sleep(60*60*4)"
      ],
      "execution_count": 16,
      "outputs": []
    },
    {
      "cell_type": "code",
      "metadata": {
        "id": "Gb3osJJZeTF7"
      },
      "source": [
        ""
      ],
      "execution_count": null,
      "outputs": []
    }
  ]
}