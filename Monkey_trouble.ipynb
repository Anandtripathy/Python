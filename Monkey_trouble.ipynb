{
  "nbformat": 4,
  "nbformat_minor": 0,
  "metadata": {
    "colab": {
      "name": "Monkey_trouble.ipynb",
      "provenance": [],
      "collapsed_sections": [],
      "authorship_tag": "ABX9TyPTB903EQBRI68eTvdJ4J2F"
    },
    "kernelspec": {
      "name": "python3",
      "display_name": "Python 3"
    }
  },
  "cells": [
    {
      "cell_type": "code",
      "metadata": {
        "colab": {
          "base_uri": "https://localhost:8080/",
          "height": 69
        },
        "id": "mNq-wz4Cbi6G",
        "outputId": "bc328200-38bf-4e07-e6d1-e8447917a3e6"
      },
      "source": [
        "'''\\n \r\n",
        "We have two monkeys, a and b, and the parameters a_smile and b_smile indicate if \r\n",
        "each is smiling. We are in trouble if they are both smiling or if neither of them\r\n",
        "is smiling. Return True if we are in trouble.\r\n",
        "\r\n",
        "\r\n",
        "monkey_trouble(True, True) → True\r\n",
        "monkey_trouble(False, False) → True\r\n",
        "monkey_trouble(True, False) → False\r\n",
        "\r\n",
        "'''"
      ],
      "execution_count": null,
      "outputs": [
        {
          "output_type": "execute_result",
          "data": {
            "application/vnd.google.colaboratory.intrinsic+json": {
              "type": "string"
            },
            "text/plain": [
              "'\\nWe have two monkeys, a and b, and the parameters a_smile and b_smile indicate if each is smiling. We are in trouble if they are both smiling or if neither of them is smiling. Return True if we are in trouble.\\n\\n\\nmonkey_trouble(True, True) → True\\nmonkey_trouble(False, False) → True\\nmonkey_trouble(True, False) → False\\n\\n'"
            ]
          },
          "metadata": {
            "tags": []
          },
          "execution_count": 1
        }
      ]
    },
    {
      "cell_type": "code",
      "metadata": {
        "id": "7_1Ah9xGbqb5"
      },
      "source": [
        "def monkey_trouble(a_smile, b_smile):\r\n",
        "  if a_smile and b_smile:\r\n",
        "    return True\r\n",
        "  if not a_smile and not b_smile:\r\n",
        "    return True\r\n",
        "  return False\r\n",
        "    \r\n"
      ],
      "execution_count": null,
      "outputs": []
    },
    {
      "cell_type": "code",
      "metadata": {
        "id": "OjRMIquHdAYB"
      },
      "source": [
        ""
      ],
      "execution_count": null,
      "outputs": []
    }
  ]
}