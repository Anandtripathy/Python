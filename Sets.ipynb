{
  "nbformat": 4,
  "nbformat_minor": 0,
  "metadata": {
    "colab": {
      "name": "Sets.ipynb",
      "provenance": [],
      "authorship_tag": "ABX9TyNcRfbBcKU04xghEoKmXhIq"
    },
    "kernelspec": {
      "name": "python3",
      "display_name": "Python 3"
    },
    "language_info": {
      "name": "python"
    }
  },
  "cells": [
    {
      "cell_type": "code",
      "metadata": {
        "id": "M31Uu-QL3GDR"
      },
      "source": [
        ""
      ],
      "execution_count": null,
      "outputs": []
    },
    {
      "cell_type": "markdown",
      "metadata": {
        "id": "dZiUlTCYRlQt"
      },
      "source": [
        "# **SETS**\n",
        "\n",
        "Sets are the unordered collections collections of unique elements.\n",
        "\n"
      ]
    },
    {
      "cell_type": "code",
      "metadata": {
        "id": "aoGMLg-yRvv4"
      },
      "source": [
        "myset = set()"
      ],
      "execution_count": null,
      "outputs": []
    }
  ]
}