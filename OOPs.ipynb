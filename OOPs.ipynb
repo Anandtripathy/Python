{
  "nbformat": 4,
  "nbformat_minor": 0,
  "metadata": {
    "colab": {
      "name": "OOPs.ipynb",
      "provenance": [],
      "collapsed_sections": [],
      "authorship_tag": "ABX9TyMVnNpKukAlalUBSP4func/"
    },
    "kernelspec": {
      "name": "python3",
      "display_name": "Python 3"
    }
  },
  "cells": [
    {
      "cell_type": "code",
      "metadata": {
        "id": "_7y4mtfE3qK6",
        "colab": {
          "base_uri": "https://localhost:8080/"
        },
        "outputId": "5ed603ee-2c78-4438-96ff-daddb3b611cd"
      },
      "source": [
        "class employee():\r\n",
        "  def __init__(self,name,age,salary,id):\r\n",
        "    self.name=name\r\n",
        "    self.age=age\r\n",
        "    self.salary=salary\r\n",
        "    self.id=id\r\n",
        "emp1=employee(\"Anand\",25,20000,1)\r\n",
        "emp2=employee(\"Mohan\",26,10000,2)\r\n",
        "print(emp1.__dict__)\r\n",
        "print(emp2.__dict__)\r\n",
        "\r\n"
      ],
      "execution_count": 6,
      "outputs": [
        {
          "output_type": "stream",
          "text": [
            "{'name': 'Anand', 'age': 25, 'salary': 20000, 'id': 1}\n",
            "{'name': 'Mohan', 'age': 26, 'salary': 10000, 'id': 2}\n"
          ],
          "name": "stdout"
        }
      ]
    },
    {
      "cell_type": "code",
      "metadata": {
        "colab": {
          "base_uri": "https://localhost:8080/"
        },
        "id": "FAkkLKE274qQ",
        "outputId": "0d891464-3f74-4970-eae0-3f43151353e7"
      },
      "source": [
        "# Single Inheritance:\r\n",
        "class employe():\r\n",
        "  def __init__(self,Name,age,salary):\r\n",
        "    self.name=Name\r\n",
        "    self.age=age\r\n",
        "    self.salary=salary\r\n",
        "class child_employee(employe):\r\n",
        "  def __init__(self,Name,age,salary,id):\r\n",
        "      self.Name=Name\r\n",
        "      self.age=age\r\n",
        "      self.salary=salary\r\n",
        "      self.id=id\r\n",
        "emp3=employe(\"Tripathy\",27,20000)\r\n",
        "\r\n",
        "print(emp3.age)\r\n",
        "print(emp3.__dict__)"
      ],
      "execution_count": 10,
      "outputs": [
        {
          "output_type": "stream",
          "text": [
            "27\n",
            "{'name': 'Tripathy', 'age': 27, 'salary': 20000}\n"
          ],
          "name": "stdout"
        }
      ]
    },
    {
      "cell_type": "code",
      "metadata": {
        "id": "ypIdv0Nd-rD3"
      },
      "source": [
        "#multilevel Inheritance:\r\n"
      ],
      "execution_count": null,
      "outputs": []
    }
  ]
}