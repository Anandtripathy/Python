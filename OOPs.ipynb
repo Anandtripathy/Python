{
  "nbformat": 4,
  "nbformat_minor": 0,
  "metadata": {
    "colab": {
      "name": "OOPs.ipynb",
      "provenance": [],
      "collapsed_sections": [],
      "authorship_tag": "ABX9TyPPN55nTevKXTJTHGoDJ9Dc"
    },
    "kernelspec": {
      "name": "python3",
      "display_name": "Python 3"
    }
  },
  "cells": [
    {
      "cell_type": "code",
      "metadata": {
        "id": "_7y4mtfE3qK6",
        "colab": {
          "base_uri": "https://localhost:8080/"
        },
        "outputId": "50eb44dc-34e7-4f36-8740-547120fac2ed"
      },
      "source": [
        "class employee():\r\n",
        "  def __init__(self,name,age,salary,id):\r\n",
        "    self.name=name\r\n",
        "    self.age=age\r\n",
        "    self.salary=salary\r\n",
        "    self.id=id\r\n",
        "emp1=employee(\"Anand\",25,20000,1)\r\n",
        "emp2=employee(\"Mohan\",26,10000,2)\r\n",
        "print(emp1.__dict__)\r\n",
        "print(emp2.__dict__)\r\n",
        "\r\n"
      ],
      "execution_count": null,
      "outputs": [
        {
          "output_type": "stream",
          "text": [
            "{'name': 'Anand', 'age': 25, 'salary': 20000, 'id': 1}\n",
            "{'name': 'Mohan', 'age': 26, 'salary': 10000, 'id': 2}\n"
          ],
          "name": "stdout"
        }
      ]
    },
    {
      "cell_type": "code",
      "metadata": {
        "colab": {
          "base_uri": "https://localhost:8080/"
        },
        "id": "FAkkLKE274qQ",
        "outputId": "ae79f9c3-8b05-461b-f58b-f6415e11878a"
      },
      "source": [
        "# Single Inheritance:\r\n",
        "class employe():\r\n",
        "  def __init__(self,Name,age,salary):\r\n",
        "    self.name=Name\r\n",
        "    self.age=age\r\n",
        "    self.salary=salary\r\n",
        "class child_employee(employe):\r\n",
        "  def __init__(self,Name,age,salary,id):\r\n",
        "      self.Name=Name\r\n",
        "      self.age=age\r\n",
        "      self.salary=salary\r\n",
        "      self.id=id\r\n",
        "emp3=employe(\"Tripathy\",27,20000)\r\n",
        "\r\n",
        "print(emp3.age)\r\n",
        "print(emp3.__dict__)"
      ],
      "execution_count": null,
      "outputs": [
        {
          "output_type": "stream",
          "text": [
            "27\n",
            "{'name': 'Tripathy', 'age': 27, 'salary': 20000}\n"
          ],
          "name": "stdout"
        }
      ]
    },
    {
      "cell_type": "code",
      "metadata": {
        "colab": {
          "base_uri": "https://localhost:8080/"
        },
        "id": "ypIdv0Nd-rD3",
        "outputId": "bcdab06b-daeb-4730-90f8-08188fe40fd0"
      },
      "source": [
        "#multilevel Inheritance:\r\n",
        "class emp():\r\n",
        "  def __init__(self,Name,age,salary):\r\n",
        "    self.Name=Name\r\n",
        "    self.age=age\r\n",
        "    self.salary=salary\r\n",
        "class employee(emp):\r\n",
        "  def __init__(self,Name,age,salary):\r\n",
        "    self.Name=Name\r\n",
        "    self.age=age\r\n",
        "    self.salary=salary\r\n",
        "class third_employe(employee):\r\n",
        "  def __init__(self,Name,age,salary):\r\n",
        "    self.Name=Name\r\n",
        "    self.age=age\r\n",
        "    self.salary=salary\r\n",
        "empl1=third_employe(\"ABC\",32,100)\r\n",
        "empl2=employee(\"DEF\",12,123)\r\n",
        "\r\n",
        "print(empl1.__dict__)\r\n",
        "print(empl2.__dict__)\r\n",
        "print(empl1.age)\r\n",
        "print(empl2.salary)"
      ],
      "execution_count": null,
      "outputs": [
        {
          "output_type": "stream",
          "text": [
            "{'Name': 'ABC', 'age': 32, 'salary': 100}\n",
            "{'Name': 'DEF', 'age': 12, 'salary': 123}\n",
            "32\n",
            "123\n"
          ],
          "name": "stdout"
        }
      ]
    },
    {
      "cell_type": "code",
      "metadata": {
        "colab": {
          "base_uri": "https://localhost:8080/"
        },
        "id": "eEpMNelWCJUe",
        "outputId": "9f07b844-b1d1-4b57-f275-370253b93d17"
      },
      "source": [
        "#Hierarchical Inheritance:\r\n",
        "class emp():\r\n",
        "  def __init__(self,Name,age,salary):\r\n",
        "    self.Name=Name\r\n",
        "    self.age=age\r\n",
        "    self.salary=salary\r\n",
        "class emppl(emp):\r\n",
        "  def __init__(self,Name,age,salary):\r\n",
        "    self.Name=Name\r\n",
        "    self.age=age\r\n",
        "    self.salary=salary\r\n",
        "class empppl(emp):\r\n",
        "  def __init__(self,Name,age,salary,id):\r\n",
        "    self.Name=Name\r\n",
        "    self.age=age\r\n",
        "    self.salary=salary\r\n",
        "    self.id=id\r\n",
        "\r\n",
        "em=emppl(\"Anand\",12,123)\r\n",
        "em=empppl(\"Mohan\",123,1234,1)\r\n",
        "\r\n",
        "print(emppl.__dict__)\r\n",
        "print(emppl.__dict__)"
      ],
      "execution_count": null,
      "outputs": [
        {
          "output_type": "stream",
          "text": [
            "{'__module__': '__main__', '__init__': <function emppl.__init__ at 0x7fc81f609a70>, '__doc__': None}\n",
            "{'__module__': '__main__', '__init__': <function emppl.__init__ at 0x7fc81f609a70>, '__doc__': None}\n"
          ],
          "name": "stdout"
        }
      ]
    },
    {
      "cell_type": "code",
      "metadata": {
        "id": "wPiKN6mkwJbF"
      },
      "source": [
        ""
      ],
      "execution_count": null,
      "outputs": []
    }
  ]
}