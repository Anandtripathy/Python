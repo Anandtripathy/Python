{
  "nbformat": 4,
  "nbformat_minor": 0,
  "metadata": {
    "colab": {
      "name": "Flow-Control.ipynb",
      "provenance": [],
      "collapsed_sections": [],
      "authorship_tag": "ABX9TyO2Vd2D5XbZgLzmuDXtXjHb",
      "include_colab_link": true
    },
    "kernelspec": {
      "name": "python3",
      "display_name": "Python 3"
    }
  },
  "cells": [
    {
      "cell_type": "markdown",
      "metadata": {
        "id": "view-in-github",
        "colab_type": "text"
      },
      "source": [
        "<a href=\"https://colab.research.google.com/github/Anandtripathy/Python/blob/main/Flow_Control.ipynb\" target=\"_parent\"><img src=\"https://colab.research.google.com/assets/colab-badge.svg\" alt=\"Open In Colab\"/></a>"
      ]
    },
    {
      "cell_type": "code",
      "metadata": {
        "id": "hk5HtEBmKfT9",
        "colab": {
          "base_uri": "https://localhost:8080/"
        },
        "outputId": "cc3d8b8d-aefe-4953-935c-889c588f84a2"
      },
      "source": [
        "a=2\r\n",
        "b=int(input())\r\n",
        "if a==b:\r\n",
        "  print(\"equal\")\r\n",
        "else:\r\n",
        "  print(\"not equal\")\r\n",
        "\r\n",
        "\r\n",
        "print(\"another program\")\r\n",
        "\r\n",
        "password=\"hash_password\"\r\n",
        "passs=str (input())\r\n",
        "if password==passs:\r\n",
        "  print(\"success\")\r\n",
        "else:\r\n",
        "  print(\"failure\")\r\n",
        "\r\n"
      ],
      "execution_count": 15,
      "outputs": [
        {
          "output_type": "stream",
          "text": [
            "2\n",
            "equal\n",
            "another program\n",
            "has\n",
            "failure\n"
          ],
          "name": "stdout"
        }
      ]
    },
    {
      "cell_type": "code",
      "metadata": {
        "id": "XPCc4R-TLk71",
        "colab": {
          "base_uri": "https://localhost:8080/"
        },
        "outputId": "f3033735-12d8-45e6-f857-76114012b946"
      },
      "source": [
        "#for loop \r\n",
        "travelling=input(\"Are you travelling? Yes or No:\" )\r\n",
        "while travelling=='Yes':\r\n",
        "  num=int (input(\"How many people :\"))\r\n",
        "  for num in range (1,num+1):\r\n",
        "    name=input(\"ENter name: \")\r\n",
        "    age=input(\"Enter age: \")\r\n",
        "    Sex=input(\"Sex (M or F):\")\r\n",
        "    print(\" Input Details \")\r\n",
        "    print(\"Name\",name)\r\n",
        "    print(\"Age\",age)\r\n",
        "    print(\"Sex\",Sex)\r\n",
        "    print(\"Thank You\")\r\n",
        "    travelling=input(\"Are you travelling? Yes or No:\" )\r\n",
        "print(\"Come back soon\")"
      ],
      "execution_count": 23,
      "outputs": [
        {
          "output_type": "stream",
          "text": [
            "Are you travelling? Yes or No:Yes\n",
            "How many people :1\n",
            "ENter name: Anand\n",
            "Enter age: 26\n",
            "Sex (M or F):M\n",
            " Input Details \n",
            "Name Anand\n",
            "Age 26\n",
            "Sex M\n",
            "Thank You\n",
            "Are you travelling? Yes or No:No\n",
            "Come back soon\n"
          ],
          "name": "stdout"
        }
      ]
    },
    {
      "cell_type": "code",
      "metadata": {
        "id": "t_nxpQcr1dlD"
      },
      "source": [
        ""
      ],
      "execution_count": null,
      "outputs": []
    }
  ]
}