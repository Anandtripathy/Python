{
  "nbformat": 4,
  "nbformat_minor": 0,
  "metadata": {
    "colab": {
      "name": "Compare.ipynb",
      "provenance": [],
      "collapsed_sections": [],
      "authorship_tag": "ABX9TyOZel28v1qqoHWdGZTNftSW"
    },
    "kernelspec": {
      "name": "python3",
      "display_name": "Python 3"
    }
  },
  "cells": [
    {
      "cell_type": "code",
      "metadata": {
        "id": "UO1crrhD-tlT"
      },
      "source": [
        ""
      ],
      "execution_count": null,
      "outputs": []
    },
    {
      "cell_type": "markdown",
      "metadata": {
        "id": "JDwt_3Nn-64X"
      },
      "source": [
        "**How Many Numbers Are Smaller Than the Current Number**\r\n",
        "\r\n",
        "Given the array nums, for each nums[i] find out how many numbers in the array are smaller than it. That is, for each nums[i] you have to count the number of valid j's such that j != i and nums[j] < nums[i].\r\n",
        "\r\n",
        "Return the answer in an array.\r\n",
        "\r\n",
        "https://leetcode.com/problems/how-many-numbers-are-smaller-than-the-current-number/"
      ]
    },
    {
      "cell_type": "code",
      "metadata": {
        "colab": {
          "base_uri": "https://localhost:8080/",
          "height": 52
        },
        "id": "0xANKFP9_DVO",
        "outputId": "e19f0f6b-3c14-406b-deac-e0d15596a306"
      },
      "source": [
        "'''class solution:\r\n",
        "  def SmallerNumbersThanCurrent(self,nums: List[int])-> List[int]:\r\n",
        "    output=[]\r\n",
        "    for i in nums:\r\n",
        "      count=0\r\n",
        "      for j in nums:\r\n",
        "        if i>j:\r\n",
        "          count+=1\r\n",
        "        output.append(Count)\r\n",
        "    return output\r\n",
        "'''"
      ],
      "execution_count": 3,
      "outputs": [
        {
          "output_type": "execute_result",
          "data": {
            "application/vnd.google.colaboratory.intrinsic+json": {
              "type": "string"
            },
            "text/plain": [
              "'class solution:\\n  def SmallerNumbersThanCurrent(self,nums: List[int])-> List[int]:\\n    output=[]\\n    for i in nums:\\n      count=0\\n      for j in nums:\\n        if i>j:\\n          count+=1\\n        output.append(Count)\\n    return output\\n'"
            ]
          },
          "metadata": {
            "tags": []
          },
          "execution_count": 3
        }
      ]
    },
    {
      "cell_type": "code",
      "metadata": {
        "id": "FftokI-a_4qO"
      },
      "source": [
        ""
      ],
      "execution_count": null,
      "outputs": []
    }
  ]
}