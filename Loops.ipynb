{
  "nbformat": 4,
  "nbformat_minor": 0,
  "metadata": {
    "colab": {
      "name": "Loops.ipynb",
      "provenance": [],
      "collapsed_sections": [],
      "authorship_tag": "ABX9TyNksYPUgw6AFZLfgQzAsZDe"
    },
    "kernelspec": {
      "name": "python3",
      "display_name": "Python 3"
    }
  },
  "cells": [
    {
      "cell_type": "code",
      "metadata": {
        "colab": {
          "base_uri": "https://localhost:8080/"
        },
        "id": "hS5q5J8-HAdJ",
        "outputId": "5dd20db8-5487-4b1a-b5d7-cf363bdc5c1f"
      },
      "source": [
        "fruits=[\"anand\",\"Mohan\",\"tripathy\"]\r\n",
        "for x in fruits:\r\n",
        "  print(x)"
      ],
      "execution_count": 1,
      "outputs": [
        {
          "output_type": "stream",
          "text": [
            "anand\n",
            "Mohan\n",
            "tripathy\n"
          ],
          "name": "stdout"
        }
      ]
    },
    {
      "cell_type": "code",
      "metadata": {
        "id": "rEXfTtq3IDCJ",
        "colab": {
          "base_uri": "https://localhost:8080/"
        },
        "outputId": "955e77d6-6be5-47bf-8bd1-f8799e56ebeb"
      },
      "source": [
        "for x in \"banana\":\r\n",
        "  print(x)"
      ],
      "execution_count": 2,
      "outputs": [
        {
          "output_type": "stream",
          "text": [
            "b\n",
            "a\n",
            "n\n",
            "a\n",
            "n\n",
            "a\n"
          ],
          "name": "stdout"
        }
      ]
    },
    {
      "cell_type": "markdown",
      "metadata": {
        "id": "MZxQQ6llJlUu"
      },
      "source": [
        "**Python Conditions and If statements\r\n",
        "Python supports the usual logical conditions from mathematics:**\r\n",
        "\r\n",
        "Equals: a == b \r\n",
        "\r\n",
        "Not Equals: a != b\r\n",
        "\r\n",
        "Less than: a < b\r\n",
        "\r\n",
        "Less than or equal to: a <= b\r\n",
        "\r\n",
        "Greater than: a > b\r\n",
        "\r\n",
        "Greater than or equal to: a >= b\r\n",
        "\r\n",
        "These conditions can be used in several ways, most commonly in \"if statements\" and loops. An \"if statement\" is written by using the if keyword."
      ]
    },
    {
      "cell_type": "code",
      "metadata": {
        "id": "lJqbz2DLKOaw",
        "colab": {
          "base_uri": "https://localhost:8080/"
        },
        "outputId": "d0c8b167-e55f-4b9b-a566-bc37251b8645"
      },
      "source": [
        "a=20\r\n",
        "b=30\r\n",
        "if a>=b:\r\n",
        "  print(\"b is greater than a\")\r\n",
        "else:\r\n",
        "  print(\"a is greater tha b\")"
      ],
      "execution_count": 3,
      "outputs": [
        {
          "output_type": "stream",
          "text": [
            "a is greater tha b\n"
          ],
          "name": "stdout"
        }
      ]
    },
    {
      "cell_type": "code",
      "metadata": {
        "colab": {
          "base_uri": "https://localhost:8080/"
        },
        "id": "A6MPy_SXrMpt",
        "outputId": "41a5676d-098e-4774-bf3f-25f0b18fedc2"
      },
      "source": [
        "a=31\r\n",
        "b=30\r\n",
        "if a>=b:\r\n",
        "  print(\"b is greater than a\")\r\n",
        "else:\r\n",
        "  print(\"a is greater tha b\")"
      ],
      "execution_count": 4,
      "outputs": [
        {
          "output_type": "stream",
          "text": [
            "b is greater than a\n"
          ],
          "name": "stdout"
        }
      ]
    },
    {
      "cell_type": "code",
      "metadata": {
        "colab": {
          "base_uri": "https://localhost:8080/"
        },
        "id": "VXie8kpGr4cN",
        "outputId": "de346a07-fad8-4930-f249-937fa09bc309"
      },
      "source": [
        "a=int(input())\r\n",
        "b=int(input())\r\n",
        "if a>b:\r\n",
        "  print(\"a is greater than b\")\r\n",
        "elif a==b:\r\n",
        "  print(\"a is equal to b\")\r\n",
        "else:\r\n",
        "  print(\"b is greater than a\")"
      ],
      "execution_count": 5,
      "outputs": [
        {
          "output_type": "stream",
          "text": [
            "20\n",
            "40\n",
            "b is greater than a\n"
          ],
          "name": "stdout"
        }
      ]
    },
    {
      "cell_type": "code",
      "metadata": {
        "id": "dVB5ckyPGwui"
      },
      "source": [
        ""
      ],
      "execution_count": 5,
      "outputs": []
    },
    {
      "cell_type": "markdown",
      "metadata": {
        "id": "q35-XyXtIDVf"
      },
      "source": [
        "# ***Short Hand If..else*** \r\n",
        "\r\n",
        "If you have only one statement to execute, you can put it on the same line as the if statement."
      ]
    },
    {
      "cell_type": "code",
      "metadata": {
        "id": "NIpyfEJTIKh8"
      },
      "source": [
        "if a>b: print(\"a is greater to b\")"
      ],
      "execution_count": 6,
      "outputs": []
    },
    {
      "cell_type": "code",
      "metadata": {
        "colab": {
          "base_uri": "https://localhost:8080/"
        },
        "id": "KeNN1o-XIiP4",
        "outputId": "b0124990-970b-4cbd-f557-64357e407e15"
      },
      "source": [
        "a= 2222\r\n",
        "b=2222\r\n",
        "print(\"A\") if a>=b else print(\"B\")"
      ],
      "execution_count": 7,
      "outputs": [
        {
          "output_type": "stream",
          "text": [
            "A\n"
          ],
          "name": "stdout"
        }
      ]
    },
    {
      "cell_type": "code",
      "metadata": {
        "id": "gDwJgeGzIymN",
        "colab": {
          "base_uri": "https://localhost:8080/"
        },
        "outputId": "8862c692-a3be-4c3b-fa4d-430ca01931b4"
      },
      "source": [
        "a= 200\r\n",
        "b=20\r\n",
        "c=500\r\n",
        "if a>b and c>a:\r\n",
        "  print(\"both the condition is true\")"
      ],
      "execution_count": 8,
      "outputs": [
        {
          "output_type": "stream",
          "text": [
            "both the condition is true\n"
          ],
          "name": "stdout"
        }
      ]
    },
    {
      "cell_type": "code",
      "metadata": {
        "id": "oVouZbZkHLbm"
      },
      "source": [
        ""
      ],
      "execution_count": null,
      "outputs": []
    },
    {
      "cell_type": "markdown",
      "metadata": {
        "id": "4nQIF7sbHVBg"
      },
      "source": [
        "## **Or**\r\n",
        "The or keyword is a logical operator, and is used to combine conditional statements:"
      ]
    },
    {
      "cell_type": "code",
      "metadata": {
        "colab": {
          "base_uri": "https://localhost:8080/"
        },
        "id": "gQKBMlAaHZB4",
        "outputId": "257d9568-9771-45cb-896c-e024a5ff0eee"
      },
      "source": [
        "a=300\r\n",
        "b=200\r\n",
        "c=50\r\n",
        "if a>b or c>a:\r\n",
        "  print(\"At least one of the conditions is True\")"
      ],
      "execution_count": 10,
      "outputs": [
        {
          "output_type": "stream",
          "text": [
            "At least one of the conditions is True\n"
          ],
          "name": "stdout"
        }
      ]
    },
    {
      "cell_type": "code",
      "metadata": {
        "id": "09Po9CpJHuYB"
      },
      "source": [
        ""
      ],
      "execution_count": null,
      "outputs": []
    },
    {
      "cell_type": "markdown",
      "metadata": {
        "id": "cMdcD0L3H8Aa"
      },
      "source": [
        "# **Nested If**\r\n",
        "You can have if statements inside if statements, this is called nested if statements."
      ]
    },
    {
      "cell_type": "code",
      "metadata": {
        "colab": {
          "base_uri": "https://localhost:8080/"
        },
        "id": "YRKHqiw5IARf",
        "outputId": "db25f9de-a121-4534-e835-2cd7a28da1f2"
      },
      "source": [
        "x=11\r\n",
        "\r\n",
        "if x>10:\r\n",
        "  print(\"above ten,\")\r\n",
        "  if x >20:\r\n",
        "    print(\"and also above 20!\")\r\n",
        "  else:\r\n",
        "    print(\"but not above 20.\")"
      ],
      "execution_count": 12,
      "outputs": [
        {
          "output_type": "stream",
          "text": [
            "above ten,\n",
            "but not above 20.\n"
          ],
          "name": "stdout"
        }
      ]
    },
    {
      "cell_type": "code",
      "metadata": {
        "id": "v0FIzttWKEIv"
      },
      "source": [
        ""
      ],
      "execution_count": null,
      "outputs": []
    }
  ]
}