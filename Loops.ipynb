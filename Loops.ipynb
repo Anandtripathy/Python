{
  "nbformat": 4,
  "nbformat_minor": 0,
  "metadata": {
    "colab": {
      "name": "Loops.ipynb",
      "provenance": [],
      "collapsed_sections": [],
      "authorship_tag": "ABX9TyOuDw5VtDVtS273t2mDVdPi"
    },
    "kernelspec": {
      "name": "python3",
      "display_name": "Python 3"
    }
  },
  "cells": [
    {
      "cell_type": "code",
      "metadata": {
        "colab": {
          "base_uri": "https://localhost:8080/"
        },
        "id": "hS5q5J8-HAdJ",
        "outputId": "bb45a82e-18f8-4e7c-9714-480504b2241b"
      },
      "source": [
        "fruits=[\"anand\",\"Mohan\",\"tripathy\"]\r\n",
        "for x in fruits:\r\n",
        "  print(x)"
      ],
      "execution_count": 1,
      "outputs": [
        {
          "output_type": "stream",
          "text": [
            "anand\n",
            "Mohan\n",
            "tripathy\n"
          ],
          "name": "stdout"
        }
      ]
    },
    {
      "cell_type": "code",
      "metadata": {
        "id": "rEXfTtq3IDCJ",
        "colab": {
          "base_uri": "https://localhost:8080/"
        },
        "outputId": "fb273d8b-a023-4597-c910-970026d0c35b"
      },
      "source": [
        "for x in \"banana\":\r\n",
        "  print(x)"
      ],
      "execution_count": 2,
      "outputs": [
        {
          "output_type": "stream",
          "text": [
            "b\n",
            "a\n",
            "n\n",
            "a\n",
            "n\n",
            "a\n"
          ],
          "name": "stdout"
        }
      ]
    },
    {
      "cell_type": "markdown",
      "metadata": {
        "id": "MZxQQ6llJlUu"
      },
      "source": [
        "**Python Conditions and If statements\r\n",
        "Python supports the usual logical conditions from mathematics:**\r\n",
        "\r\n",
        "Equals: a == b \r\n",
        "\r\n",
        "Not Equals: a != b\r\n",
        "\r\n",
        "Less than: a < b\r\n",
        "\r\n",
        "Less than or equal to: a <= b\r\n",
        "\r\n",
        "Greater than: a > b\r\n",
        "\r\n",
        "Greater than or equal to: a >= b\r\n",
        "\r\n",
        "These conditions can be used in several ways, most commonly in \"if statements\" and loops. An \"if statement\" is written by using the if keyword."
      ]
    },
    {
      "cell_type": "code",
      "metadata": {
        "id": "lJqbz2DLKOaw",
        "colab": {
          "base_uri": "https://localhost:8080/"
        },
        "outputId": "75b4d92e-2cdc-474e-9595-ffcb5128ec8e"
      },
      "source": [
        "a=20\r\n",
        "b=30\r\n",
        "if a>=b:\r\n",
        "  print(\"b is greater than a\")\r\n",
        "else:\r\n",
        "  print(\"a is greater tha b\")"
      ],
      "execution_count": 3,
      "outputs": [
        {
          "output_type": "stream",
          "text": [
            "a is greater tha b\n"
          ],
          "name": "stdout"
        }
      ]
    },
    {
      "cell_type": "code",
      "metadata": {
        "colab": {
          "base_uri": "https://localhost:8080/"
        },
        "id": "A6MPy_SXrMpt",
        "outputId": "26d6033b-5f4e-4bfa-95e6-f4b5c91b39cd"
      },
      "source": [
        "a=31\r\n",
        "b=30\r\n",
        "if a>=b:\r\n",
        "  print(\"b is greater than a\")\r\n",
        "else:\r\n",
        "  print(\"a is greater tha b\")"
      ],
      "execution_count": 4,
      "outputs": [
        {
          "output_type": "stream",
          "text": [
            "b is greater than a\n"
          ],
          "name": "stdout"
        }
      ]
    },
    {
      "cell_type": "code",
      "metadata": {
        "colab": {
          "base_uri": "https://localhost:8080/"
        },
        "id": "VXie8kpGr4cN",
        "outputId": "098ac70a-1d65-4a00-ed69-6a23f3c98c43"
      },
      "source": [
        "a=int(input())\r\n",
        "b=int(input())\r\n",
        "if a>b:\r\n",
        "  print(\"a is greater than b\")\r\n",
        "elif a==b:\r\n",
        "  print(\"a is equal to b\")\r\n",
        "else:\r\n",
        "  print(\"b is greater than a\")"
      ],
      "execution_count": 5,
      "outputs": [
        {
          "output_type": "stream",
          "text": [
            "20\n",
            "10\n",
            "a is greater than b\n"
          ],
          "name": "stdout"
        }
      ]
    },
    {
      "cell_type": "code",
      "metadata": {
        "id": "dVB5ckyPGwui"
      },
      "source": [
        ""
      ],
      "execution_count": 5,
      "outputs": []
    },
    {
      "cell_type": "markdown",
      "metadata": {
        "id": "q35-XyXtIDVf"
      },
      "source": [
        "# ***Short Hand If..else*** \r\n",
        "\r\n",
        "If you have only one statement to execute, you can put it on the same line as the if statement."
      ]
    },
    {
      "cell_type": "code",
      "metadata": {
        "id": "NIpyfEJTIKh8",
        "colab": {
          "base_uri": "https://localhost:8080/"
        },
        "outputId": "c0a3ddbf-efb8-41f7-ab8d-0942943296a3"
      },
      "source": [
        "if a>b: print(\"a is greater to b\")"
      ],
      "execution_count": 6,
      "outputs": [
        {
          "output_type": "stream",
          "text": [
            "a is greater to b\n"
          ],
          "name": "stdout"
        }
      ]
    },
    {
      "cell_type": "code",
      "metadata": {
        "colab": {
          "base_uri": "https://localhost:8080/"
        },
        "id": "KeNN1o-XIiP4",
        "outputId": "11cc2a8a-0f97-4c4f-aab1-777812f00285"
      },
      "source": [
        "a= 2222\r\n",
        "b=2222\r\n",
        "print(\"A\") if a>=b else print(\"B\")"
      ],
      "execution_count": 7,
      "outputs": [
        {
          "output_type": "stream",
          "text": [
            "A\n"
          ],
          "name": "stdout"
        }
      ]
    },
    {
      "cell_type": "code",
      "metadata": {
        "id": "gDwJgeGzIymN",
        "colab": {
          "base_uri": "https://localhost:8080/"
        },
        "outputId": "462e66fe-c16d-4d14-cf0e-fbecfb690b03"
      },
      "source": [
        "a= 200\r\n",
        "b=20\r\n",
        "c=500\r\n",
        "if a>b and c>a:\r\n",
        "  print(\"both the condition is true\")"
      ],
      "execution_count": 8,
      "outputs": [
        {
          "output_type": "stream",
          "text": [
            "both the condition is true\n"
          ],
          "name": "stdout"
        }
      ]
    },
    {
      "cell_type": "code",
      "metadata": {
        "id": "oVouZbZkHLbm"
      },
      "source": [
        ""
      ],
      "execution_count": 8,
      "outputs": []
    },
    {
      "cell_type": "markdown",
      "metadata": {
        "id": "4nQIF7sbHVBg"
      },
      "source": [
        "## **Or**\r\n",
        "The or keyword is a logical operator, and is used to combine conditional statements:"
      ]
    },
    {
      "cell_type": "code",
      "metadata": {
        "colab": {
          "base_uri": "https://localhost:8080/"
        },
        "id": "gQKBMlAaHZB4",
        "outputId": "d74ce43d-13cf-456d-f456-2b6ac691f320"
      },
      "source": [
        "a=300\r\n",
        "b=200\r\n",
        "c=50\r\n",
        "if a>b or c>a:\r\n",
        "  print(\"At least one of the conditions is True\")"
      ],
      "execution_count": 9,
      "outputs": [
        {
          "output_type": "stream",
          "text": [
            "At least one of the conditions is True\n"
          ],
          "name": "stdout"
        }
      ]
    },
    {
      "cell_type": "code",
      "metadata": {
        "id": "09Po9CpJHuYB"
      },
      "source": [
        ""
      ],
      "execution_count": 9,
      "outputs": []
    },
    {
      "cell_type": "markdown",
      "metadata": {
        "id": "cMdcD0L3H8Aa"
      },
      "source": [
        "# **Nested If**\r\n",
        "You can have if statements inside if statements, this is called nested if statements."
      ]
    },
    {
      "cell_type": "code",
      "metadata": {
        "colab": {
          "base_uri": "https://localhost:8080/"
        },
        "id": "YRKHqiw5IARf",
        "outputId": "31f415c9-5b91-4bcd-f7fb-846014e6a328"
      },
      "source": [
        "x=11\r\n",
        "\r\n",
        "if x>10:\r\n",
        "  print(\"above ten,\")\r\n",
        "  if x >20:\r\n",
        "    print(\"and also above 20!\")\r\n",
        "  else:\r\n",
        "    print(\"but not above 20.\")"
      ],
      "execution_count": 10,
      "outputs": [
        {
          "output_type": "stream",
          "text": [
            "above ten,\n",
            "but not above 20.\n"
          ],
          "name": "stdout"
        }
      ]
    },
    {
      "cell_type": "code",
      "metadata": {
        "id": "v0FIzttWKEIv"
      },
      "source": [
        "a=200\r\n",
        "b=300\r\n",
        "\r\n",
        "if b>a:\r\n",
        "  pass"
      ],
      "execution_count": 11,
      "outputs": []
    },
    {
      "cell_type": "code",
      "metadata": {
        "colab": {
          "base_uri": "https://localhost:8080/"
        },
        "id": "fRZywiVnGvzU",
        "outputId": "82ca7193-07a9-421a-a111-f26d042b839b"
      },
      "source": [
        "a=5\r\n",
        "b=10\r\n",
        "if a>b:\r\n",
        "  print(\"Hello world\")\r\n",
        "else:\r\n",
        "  print(\"a is smaller than b\")"
      ],
      "execution_count": 12,
      "outputs": [
        {
          "output_type": "stream",
          "text": [
            "a is smaller than b\n"
          ],
          "name": "stdout"
        }
      ]
    },
    {
      "cell_type": "code",
      "metadata": {
        "id": "zFTRj1mHG_gS"
      },
      "source": [
        ""
      ],
      "execution_count": 12,
      "outputs": []
    },
    {
      "cell_type": "markdown",
      "metadata": {
        "id": "VhdVaNS9HT4X"
      },
      "source": [
        "# **For Loops** \r\n",
        "\r\n",
        "Python has two primitive loop commands:\r\n",
        "\r\n",
        "while loops\r\n",
        "\r\n",
        "*   While Loops\r\n",
        "*   For Loops"
      ]
    },
    {
      "cell_type": "code",
      "metadata": {
        "colab": {
          "base_uri": "https://localhost:8080/"
        },
        "id": "4mIIbi38HxTj",
        "outputId": "8ec53129-8775-4669-befa-9bad1ccc1cd2"
      },
      "source": [
        "x=['ANAND',65,25,2.3]\r\n",
        "for i in x:\r\n",
        "  if (i == 65) and (type(i)==int):\r\n",
        "      print(\"True\")\r\n",
        "      break\r\n",
        "  else:\r\n",
        "    print(\"flase\")"
      ],
      "execution_count": 13,
      "outputs": [
        {
          "output_type": "stream",
          "text": [
            "flase\n",
            "True\n"
          ],
          "name": "stdout"
        }
      ]
    },
    {
      "cell_type": "code",
      "metadata": {
        "colab": {
          "base_uri": "https://localhost:8080/"
        },
        "id": "S_VsVJL9JTGr",
        "outputId": "691bcfae-824b-4b86-b6e2-1e40cb8d58ee"
      },
      "source": [
        "x=\"Anand\"\r\n",
        "for i in x:\r\n",
        "  print(i)"
      ],
      "execution_count": 14,
      "outputs": [
        {
          "output_type": "stream",
          "text": [
            "A\n",
            "n\n",
            "a\n",
            "n\n",
            "d\n"
          ],
          "name": "stdout"
        }
      ]
    },
    {
      "cell_type": "code",
      "metadata": {
        "colab": {
          "base_uri": "https://localhost:8080/"
        },
        "id": "WaYShXiKMq04",
        "outputId": "db99602f-0f45-4992-f140-79b62847cb52"
      },
      "source": [
        "for i in \"Anand\":\r\n",
        "  print(i)"
      ],
      "execution_count": 15,
      "outputs": [
        {
          "output_type": "stream",
          "text": [
            "A\n",
            "n\n",
            "a\n",
            "n\n",
            "d\n"
          ],
          "name": "stdout"
        }
      ]
    },
    {
      "cell_type": "code",
      "metadata": {
        "id": "veqsuzhANFIC"
      },
      "source": [
        ""
      ],
      "execution_count": 15,
      "outputs": []
    }
  ]
}