{
  "nbformat": 4,
  "nbformat_minor": 0,
  "metadata": {
    "colab": {
      "name": "Untitled3.ipynb",
      "provenance": [],
      "authorship_tag": "ABX9TyOSwvjgwqrawSZtO4bQ25wn",
      "include_colab_link": true
    },
    "kernelspec": {
      "name": "python3",
      "display_name": "Python 3"
    }
  },
  "cells": [
    {
      "cell_type": "markdown",
      "metadata": {
        "id": "view-in-github",
        "colab_type": "text"
      },
      "source": [
        "<a href=\"https://colab.research.google.com/github/Anandtripathy/Python/blob/main/Square_root.ipynb\" target=\"_parent\"><img src=\"https://colab.research.google.com/assets/colab-badge.svg\" alt=\"Open In Colab\"/></a>"
      ]
    },
    {
      "cell_type": "code",
      "metadata": {
        "colab": {
          "base_uri": "https://localhost:8080/"
        },
        "id": "oiUOgTzNzLjw",
        "outputId": "32e342cb-8f14-4ea4-a931-6e216baf1f6d"
      },
      "source": [
        "a= int(input(\"Enter a number:\"))\r\n",
        "num_sqrt=a**0.5\r\n",
        "print(num_sqrt)"
      ],
      "execution_count": 5,
      "outputs": [
        {
          "output_type": "stream",
          "text": [
            "Enter a number:12\n",
            "3.4641016151377544\n"
          ],
          "name": "stdout"
        }
      ]
    }
  ]
}